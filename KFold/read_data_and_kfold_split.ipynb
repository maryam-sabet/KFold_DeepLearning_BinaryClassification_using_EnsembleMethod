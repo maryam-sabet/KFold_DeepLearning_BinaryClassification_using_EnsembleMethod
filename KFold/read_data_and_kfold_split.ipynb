{
  "nbformat": 4,
  "nbformat_minor": 0,
  "metadata": {
    "colab": {
      "provenance": [],
      "mount_file_id": "1fJzLe4OQeHBnAK3MSZLJfp2geaUkwaYs",
      "authorship_tag": "ABX9TyNkGOBZqz/Q85LWQeBZJ1VX",
      "include_colab_link": true
    },
    "kernelspec": {
      "name": "python3",
      "display_name": "Python 3"
    },
    "language_info": {
      "name": "python"
    },
    "accelerator": "GPU",
    "gpuClass": "standard"
  },
  "cells": [
    {
      "cell_type": "markdown",
      "metadata": {
        "id": "view-in-github",
        "colab_type": "text"
      },
      "source": [
        "<a href=\"https://colab.research.google.com/github/maryam-sabet/KFold_DeepLearning_BinaryClassification_using_EnsembleMethod/blob/main/read_data_and_kfold_split.ipynb\" target=\"_parent\"><img src=\"https://colab.research.google.com/assets/colab-badge.svg\" alt=\"Open In Colab\"/></a>"
      ]
    },
    {
      "cell_type": "markdown",
      "source": [
        "# **Libraries**"
      ],
      "metadata": {
        "id": "hZtaL0SxpZfv"
      }
    },
    {
      "cell_type": "code",
      "source": [
        "import glob\n",
        "import cv2\n",
        "from google.colab.patches import cv2_imshow\n",
        "import matplotlib.pyplot as plt\n",
        "import random\n",
        "import numpy as np\n",
        "import keras\n",
        "import tensorflow as tf\n",
        "from sklearn.model_selection import train_test_split\n",
        "from sklearn import preprocessing\n",
        "from keras.utils import to_categorical\n",
        "from tensorflow import keras\n",
        "from tensorflow.keras.models import Model\n",
        "from sklearn.model_selection import KFold"
      ],
      "metadata": {
        "id": "sy-pwaD4pdjv"
      },
      "execution_count": null,
      "outputs": []
    },
    {
      "cell_type": "markdown",
      "source": [
        "# **Loading data**"
      ],
      "metadata": {
        "id": "IZqVwUgYeaH3"
      }
    },
    {
      "cell_type": "code",
      "source": [
        "# List paths for patient and normal images\n",
        "path_P = glob.glob(\"/content/drive/MyDrive/Dataproject/patient/*\")\n",
        "path_N = glob.glob(\"/content/drive/MyDrive/Dataproject/normal/*\")\n"
      ],
      "metadata": {
        "id": "ae-Rux9_JCjj"
      },
      "execution_count": null,
      "outputs": []
    },
    {
      "cell_type": "code",
      "source": [
        "# Function for preprocessing images\n",
        "def pre_processing(path,x=30 ,y=72, w=374, h=507):\n",
        "    img = imageio.imread(path)\n",
        "    image = img[x:w , y:h]\n",
        "    return image\n",
        "\n",
        "data = list()\n",
        "label = list()\n",
        "\n",
        "for path in path_P:\n",
        "    data.append(pre_processing(path))\n",
        "    label.append(\"patient\")\n",
        "\n",
        "for path in path_N:\n",
        "    data.append(pre_processing(path))\n",
        "    label.append(\"Normal\")\n"
      ],
      "metadata": {
        "id": "0wPBAb_KpYXI",
        "colab": {
          "base_uri": "https://localhost:8080/"
        },
        "outputId": "35c947ba-d02b-4809-8124-c44c32c6ade3"
      },
      "execution_count": null,
      "outputs": [
        {
          "output_type": "stream",
          "name": "stderr",
          "text": [
            "<ipython-input-22-155f38d02ae5>:2: DeprecationWarning: Starting with ImageIO v3 the behavior of this function will switch to that of iio.v3.imread. To keep the current behavior (and make this warning disappear) use `import imageio.v2 as imageio` or call `imageio.v2.imread` directly.\n",
            "  img = imageio.imread(path)\n"
          ]
        }
      ]
    },
    {
      "cell_type": "code",
      "source": [
        "data = np.array(data)\n",
        "label = np.array(label)\n"
      ],
      "metadata": {
        "id": "-MEGCDXNtlXB",
        "colab": {
          "base_uri": "https://localhost:8080/"
        },
        "outputId": "10fd5d31-fcf5-479f-9095-39cdd8fa04ab"
      },
      "execution_count": null,
      "outputs": [
        {
          "output_type": "stream",
          "name": "stderr",
          "text": [
            "<ipython-input-24-cf8d6016bb16>:1: VisibleDeprecationWarning: Creating an ndarray from ragged nested sequences (which is a list-or-tuple of lists-or-tuples-or ndarrays with different lengths or shapes) is deprecated. If you meant to do this, you must specify 'dtype=object' when creating the ndarray.\n",
            "  data = np.array(data)\n"
          ]
        }
      ]
    },
    {
      "cell_type": "code",
      "source": [
        "Data = np.save(\"/content/drive/MyDrive/data.npy\" , data  )\n",
        "label = np.save(\"/content/drive/MyDrive/label.npy\" , label  )"
      ],
      "metadata": {
        "id": "V6Vh5TDcs7p_"
      },
      "execution_count": null,
      "outputs": []
    },
    {
      "cell_type": "code",
      "source": [
        "data = np.load(\"/content/drive/MyDrive/paper/data.npy\",allow_pickle=True)\n",
        "label = np.load(\"/content/drive/MyDrive/paper/label.npy\",allow_pickle=True)\n",
        "print(len(data) , len(label))"
      ],
      "metadata": {
        "id": "Vm_yfSSGuTZe",
        "colab": {
          "base_uri": "https://localhost:8080/"
        },
        "outputId": "35e8c1f1-0f61-4cca-948c-8f8345a8fc42"
      },
      "execution_count": null,
      "outputs": [
        {
          "output_type": "stream",
          "name": "stdout",
          "text": [
            "1400 1400\n"
          ]
        }
      ]
    },
    {
      "cell_type": "code",
      "source": [
        "np.unique(label , return_counts=True)"
      ],
      "metadata": {
        "colab": {
          "base_uri": "https://localhost:8080/"
        },
        "id": "g5BdpD7nGNIo",
        "outputId": "7f9bac79-3872-4319-d226-7f1192fc1eb5"
      },
      "execution_count": null,
      "outputs": [
        {
          "output_type": "execute_result",
          "data": {
            "text/plain": [
              "(array(['Normal', 'patient'], dtype='<U7'), array([700, 700]))"
            ]
          },
          "metadata": {},
          "execution_count": 3
        }
      ]
    },
    {
      "cell_type": "code",
      "source": [
        "#resize input images\n",
        "Data =list()\n",
        "for item in data:\n",
        "  img = cv2.resize(item , (224,224) , cv2.INTER_NEAREST )\n",
        "  Data.append(img)\n",
        "\n",
        "Data = np.array(Data)"
      ],
      "metadata": {
        "id": "qK3j-9nM__am"
      },
      "execution_count": null,
      "outputs": []
    },
    {
      "cell_type": "code",
      "source": [
        "#kfold validation\n",
        "# Split data into folds and save as numpy files\n",
        "\n",
        "kfold = KFold(5, shuffle=True)\n",
        "kfold.get_n_splits(Data)\n",
        "print(kfold)\n",
        "fold= 1\n",
        "for train_index, test_index in kfold.split(Data):\n",
        "    # print('Train: ', train_index, 'Test: ', test_index)\n",
        "    X_train, X_Test = Data[train_index], Data[test_index]\n",
        "    Y_train, Y_Test = label[train_index], label[test_index]\n",
        "    np.save(\"/content/drive/MyDrive/paper/K-fold code/dataset_npy/X_train_fold_\" + str(fold) + \".npy\" , X_train )\n",
        "    np.save(\"/content/drive/MyDrive/paper/K-fold code/dataset_npy/Y_train_fold_\" + str(fold) + \".npy\" , Y_train )\n",
        "    np.save(\"/content/drive/MyDrive/paper/K-fold code/dataset_npy/X_test_fold_\" + str(fold) + \".npy\" ,X_Test )\n",
        "    np.save(\"/content/drive/MyDrive/paper/K-fold code/dataset_npy/Y_test_fold_\" + str(fold) + \".npy\" , Y_Test )\n",
        "    fold+=1"
      ],
      "metadata": {
        "id": "U3B7T2vBSvkb",
        "colab": {
          "base_uri": "https://localhost:8080/"
        },
        "outputId": "f94c7eaa-6b58-42a8-b246-86591f60b2fd"
      },
      "execution_count": null,
      "outputs": [
        {
          "output_type": "stream",
          "name": "stdout",
          "text": [
            "KFold(n_splits=5, random_state=None, shuffle=True)\n"
          ]
        }
      ]
    }
  ]
}
