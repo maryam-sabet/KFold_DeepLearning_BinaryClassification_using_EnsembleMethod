{
  "cells": [
    {
      "cell_type": "markdown",
      "metadata": {
        "id": "view-in-github",
        "colab_type": "text"
      },
      "source": [
        "<a href=\"https://colab.research.google.com/github/maryam-sabet/KFold_DeepLearning_BinaryClassification_using_EnsembleMethod/blob/main/K_fold_1.ipynb\" target=\"_parent\"><img src=\"https://colab.research.google.com/assets/colab-badge.svg\" alt=\"Open In Colab\"/></a>"
      ]
    },
    {
      "cell_type": "markdown",
      "metadata": {
        "id": "Ksiytk9lpNlA"
      },
      "source": [
        "# **Change tensorflow version**"
      ]
    },
    {
      "cell_type": "code",
      "execution_count": null,
      "metadata": {
        "id": "FXU5SP3ApQKW"
      },
      "outputs": [],
      "source": [
        "!pip install tensorflow==2.9.1"
      ]
    },
    {
      "cell_type": "markdown",
      "metadata": {
        "id": "hZtaL0SxpZfv"
      },
      "source": [
        "# **Libraries**"
      ]
    },
    {
      "cell_type": "code",
      "execution_count": null,
      "metadata": {
        "id": "sy-pwaD4pdjv"
      },
      "outputs": [],
      "source": [
        "import glob\n",
        "import cv2\n",
        "from google.colab.patches import cv2_imshow\n",
        "import matplotlib.pyplot as plt\n",
        "import random\n",
        "import numpy as np\n",
        "import keras\n",
        "import tensorflow as tf\n",
        "from sklearn.model_selection import train_test_split\n",
        "from sklearn import preprocessing\n",
        "from keras.utils import to_categorical\n",
        "from tensorflow import keras\n",
        "from tensorflow.keras.utils import plot_model\n",
        "from tensorflow.keras.preprocessing.image import ImageDataGenerator\n",
        "from tensorflow.keras.applications import VGG16,DenseNet169,Xception,MobileNet,MobileNetV2,NASNetMobile,EfficientNetB0,DenseNet121,EfficientNetV2B0,ResNet50V2\n",
        "from tensorflow.keras.models import Model\n",
        "from sklearn.model_selection import KFold\n",
        "from tensorflow.keras import layers\n",
        "from tensorflow.keras.layers import Dense, GlobalAveragePooling2D, Input,Flatten,Dropout\n",
        "from tensorflow.keras.callbacks import ModelCheckpoint , CSVLogger , LearningRateScheduler\n",
        "from sklearn.metrics import precision_score , recall_score , f1_score , confusion_matrix , ConfusionMatrixDisplay ,classification_report\n"
      ]
    },
    {
      "cell_type": "code",
      "execution_count": null,
      "metadata": {
        "colab": {
          "base_uri": "https://localhost:8080/",
          "height": 36
        },
        "id": "LGyGgja4-flU",
        "outputId": "f90da40e-ca10-4111-f95c-71392507284d"
      },
      "outputs": [
        {
          "output_type": "execute_result",
          "data": {
            "text/plain": [
              "'2.9.1'"
            ],
            "application/vnd.google.colaboratory.intrinsic+json": {
              "type": "string"
            }
          },
          "metadata": {},
          "execution_count": 2
        }
      ],
      "source": [
        "tf.__version__"
      ]
    },
    {
      "cell_type": "markdown",
      "metadata": {
        "id": "IZqVwUgYeaH3"
      },
      "source": [
        "# **Loading data**"
      ]
    },
    {
      "cell_type": "code",
      "execution_count": null,
      "metadata": {
        "id": "Vm_yfSSGuTZe"
      },
      "outputs": [],
      "source": [
        "x_train =np.load(\"/content/drive/MyDrive/paper/K-fold code/dataset_npy/X_train_fold_1.npy\",allow_pickle=True)\n",
        "y_train=np.load(\"/content/drive/MyDrive/paper/K-fold code/dataset_npy/Y_train_fold_1.npy\",allow_pickle=True)\n",
        "x_test = np.load(\"/content/drive/MyDrive/paper/K-fold code/dataset_npy/X_test_fold_1.npy\",allow_pickle=True)\n",
        "y_test = np.load(\"/content/drive/MyDrive/paper/K-fold code/dataset_npy/Y_test_fold_1.npy\",allow_pickle=True)\n"
      ]
    },
    {
      "cell_type": "code",
      "execution_count": null,
      "metadata": {
        "colab": {
          "base_uri": "https://localhost:8080/"
        },
        "id": "g9cIHfSDFdUb",
        "outputId": "80d4a551-2eb2-4723-d5e7-6275d65508e4"
      },
      "outputs": [
        {
          "output_type": "stream",
          "name": "stdout",
          "text": [
            "(1120, 224, 224, 3) (1120,) (280, 224, 224, 3) (280,)\n"
          ]
        }
      ],
      "source": [
        "print(x_train.shape ,y_train.shape ,x_test.shape , y_test.shape  )"
      ]
    },
    {
      "cell_type": "code",
      "execution_count": null,
      "metadata": {
        "id": "7wxK4rU8lpJO"
      },
      "outputs": [],
      "source": [
        "# Shuffle the data\n",
        "random.seed(1254)\n",
        "combined = list(zip(x_train, y_train))\n",
        "random.shuffle(combined)\n",
        "\n",
        "\n",
        "x_train, y_train = zip(*combined)\n",
        "y_train = np.array(y_train)\n",
        "x_train = np.array(x_train)"
      ]
    },
    {
      "cell_type": "code",
      "execution_count": null,
      "metadata": {
        "colab": {
          "base_uri": "https://localhost:8080/"
        },
        "id": "xmIzwTKzu8V7",
        "outputId": "67afab4a-1b11-496d-9ee3-cdabddb5c2ba"
      },
      "outputs": [
        {
          "output_type": "stream",
          "name": "stdout",
          "text": [
            "(array(['Normal', 'patient'], dtype='<U7'), array([565, 555]))\n"
          ]
        },
        {
          "output_type": "execute_result",
          "data": {
            "text/plain": [
              "565"
            ]
          },
          "metadata": {},
          "execution_count": 6
        }
      ],
      "source": [
        "# Display class distribution\n",
        "class_label = np.unique(y_train , return_counts=True)\n",
        "print(class_label)\n",
        "\n",
        "class_label[1][0]"
      ]
    },
    {
      "cell_type": "markdown",
      "metadata": {
        "id": "FOGExaCQfF0e"
      },
      "source": [
        "# **Preprosesing for build the model...**"
      ]
    },
    {
      "cell_type": "code",
      "execution_count": null,
      "metadata": {
        "id": "rWzKNizsy02G"
      },
      "outputs": [],
      "source": [
        "# Label binarizing\n",
        "lb = preprocessing.LabelBinarizer()\n",
        "\n",
        "# Convert labels to categorical\n",
        "y_train = lb.fit_transform(y_train)\n",
        "y_train = to_categorical(y_train , num_classes=2)\n",
        "\n",
        "y_test = lb.fit_transform(y_test)\n",
        "y_test = to_categorical(y_test , num_classes=2)"
      ]
    },
    {
      "cell_type": "code",
      "execution_count": null,
      "metadata": {
        "colab": {
          "base_uri": "https://localhost:8080/"
        },
        "id": "1ojb_4J2HzRx",
        "outputId": "438d5171-ea46-441c-cf5c-c705b9025b4f"
      },
      "outputs": [
        {
          "output_type": "stream",
          "name": "stdout",
          "text": [
            "(1120, 224, 224, 3) (1120, 2) (280, 224, 224, 3) (280, 2)\n"
          ]
        }
      ],
      "source": [
        "print(x_train.shape ,y_train.shape ,x_test.shape , y_test.shape  )"
      ]
    },
    {
      "cell_type": "markdown",
      "metadata": {
        "id": "vj_budWBf6jO"
      },
      "source": [
        "# **Models**"
      ]
    },
    {
      "cell_type": "code",
      "execution_count": null,
      "metadata": {
        "id": "n1Qp-5RU8PCM"
      },
      "outputs": [],
      "source": [
        "# Define model checkpoint for saving best model during training\n",
        "model_save = ModelCheckpoint(\"/content/drive/MyDrive/paper/K-fold code/ResNet50V2_kfold1.h5\" , save_best_only=True , verbose=2 , monitor=\"val_accuracy\" , mode=\"max\" )\n"
      ]
    },
    {
      "cell_type": "code",
      "execution_count": null,
      "metadata": {
        "id": "4KvPa59o76Pn"
      },
      "outputs": [],
      "source": [
        "# Load pre-trained ResNet50V2 model\n",
        "base_model = ResNet50V2(weights=\"imagenet\", include_top=False , input_tensor=Input(shape=(224,224,3)))\n",
        "\n",
        "# Add custom layers on top of the pre-trained model\n",
        "x = base_model.output\n",
        "x = GlobalAveragePooling2D()(x)\n",
        "x = Flatten(name=\"flatting\")(x)\n",
        "x = Dense(128, activation='relu')(x)\n",
        "x= Dropout(0.3)(x)\n",
        "predictions = Dense(2, activation='softmax')(x)\n",
        "# this is the model we will train\n",
        "model = Model(inputs=base_model.input, outputs=predictions)"
      ]
    },
    {
      "cell_type": "markdown",
      "metadata": {
        "id": "LSAJgKMc4E07"
      },
      "source": [
        "# **preprocessing for fit model and fit**"
      ]
    },
    {
      "cell_type": "code",
      "execution_count": null,
      "metadata": {
        "id": "OoKte9OjgdD3"
      },
      "outputs": [],
      "source": [
        "csv_loger = CSVLogger(\"/content/drive/MyDrive/paper/K-fold code/ResNet50V2_kfold1.csv\" , append=True)"
      ]
    },
    {
      "cell_type": "code",
      "execution_count": null,
      "metadata": {
        "id": "Xpq8uY64hiR_"
      },
      "outputs": [],
      "source": [
        "# Define learning rate scheduler function\n",
        "def set_decay(epoch):\n",
        "  initAlpha =0.0008\n",
        "  factor = 0.9\n",
        "  dropEvery = 25\n",
        "  aplpha = initAlpha * (factor**np.floor((1+epoch) / dropEvery))\n",
        "  return float(aplpha)"
      ]
    },
    {
      "cell_type": "code",
      "execution_count": null,
      "metadata": {
        "id": "y3EMVGXXCvUx"
      },
      "outputs": [],
      "source": [
        "optim = keras.optimizers.Adam(learning_rate = 0.0008)\n",
        "model.compile(optim , loss=\"categorical_crossentropy\" , metrics=[\"accuracy\"])\n"
      ]
    },
    {
      "cell_type": "code",
      "execution_count": null,
      "metadata": {
        "id": "xe03JKPGe0ce"
      },
      "outputs": [],
      "source": [
        "batch_size = 8\n",
        "TrainStep = len(x_train) / batch_size\n",
        "ValStep = len(x_test) / batch_size"
      ]
    },
    {
      "cell_type": "code",
      "execution_count": null,
      "metadata": {
        "id": "yF8wYjCvuwJ-"
      },
      "outputs": [],
      "source": [
        "x_train=x_train/255.0\n",
        "x_test=x_test/255.0"
      ]
    },
    {
      "cell_type": "code",
      "execution_count": null,
      "metadata": {
        "id": "vMEbD6vPxedH"
      },
      "outputs": [],
      "source": [
        "# generating with functions\n",
        "datagen = ImageDataGenerator(width_shift_range=0.1, height_shift_range=0.1, horizontal_flip=True)\n",
        "train = datagen.flow(x_train, y_train, batch_size=8)"
      ]
    },
    {
      "cell_type": "code",
      "execution_count": null,
      "metadata": {
        "colab": {
          "base_uri": "https://localhost:8080/"
        },
        "id": "fIAbcxteIees",
        "outputId": "6eeed765-f112-40c3-eac1-6019be66d298"
      },
      "outputs": [
        {
          "output_type": "stream",
          "name": "stdout",
          "text": [
            "Epoch 1/15\n",
            "140/140 [==============================] - ETA: 0s - loss: 0.3651 - accuracy: 0.8714\n",
            "Epoch 1: val_accuracy improved from -inf to 0.74643, saving model to /content/drive/MyDrive/paper/K-fold code/ResNet50V2_kfold1.h5\n",
            "140/140 [==============================] - 46s 251ms/step - loss: 0.3651 - accuracy: 0.8714 - val_loss: 4.1718 - val_accuracy: 0.7464 - lr: 8.0000e-04\n",
            "Epoch 2/15\n",
            "140/140 [==============================] - ETA: 0s - loss: 0.2864 - accuracy: 0.9107\n",
            "Epoch 2: val_accuracy did not improve from 0.74643\n",
            "140/140 [==============================] - 22s 159ms/step - loss: 0.2864 - accuracy: 0.9107 - val_loss: 1239.7527 - val_accuracy: 0.5179 - lr: 8.0000e-04\n",
            "Epoch 3/15\n",
            "140/140 [==============================] - ETA: 0s - loss: 0.3613 - accuracy: 0.8714\n",
            "Epoch 3: val_accuracy did not improve from 0.74643\n",
            "140/140 [==============================] - 22s 159ms/step - loss: 0.3613 - accuracy: 0.8714 - val_loss: 1399.9542 - val_accuracy: 0.4536 - lr: 8.0000e-04\n",
            "Epoch 4/15\n",
            "140/140 [==============================] - ETA: 0s - loss: 0.2513 - accuracy: 0.9286\n",
            "Epoch 4: val_accuracy improved from 0.74643 to 0.79286, saving model to /content/drive/MyDrive/paper/K-fold code/ResNet50V2_kfold1.h5\n",
            "140/140 [==============================] - 26s 184ms/step - loss: 0.2513 - accuracy: 0.9286 - val_loss: 0.4688 - val_accuracy: 0.7929 - lr: 8.0000e-04\n",
            "Epoch 5/15\n",
            "140/140 [==============================] - ETA: 0s - loss: 0.1970 - accuracy: 0.9393\n",
            "Epoch 5: val_accuracy improved from 0.79286 to 0.86786, saving model to /content/drive/MyDrive/paper/K-fold code/ResNet50V2_kfold1.h5\n",
            "140/140 [==============================] - 30s 216ms/step - loss: 0.1970 - accuracy: 0.9393 - val_loss: 0.2400 - val_accuracy: 0.8679 - lr: 8.0000e-04\n",
            "Epoch 6/15\n",
            "140/140 [==============================] - ETA: 0s - loss: 0.1248 - accuracy: 0.9679\n",
            "Epoch 6: val_accuracy did not improve from 0.86786\n",
            "140/140 [==============================] - 22s 157ms/step - loss: 0.1248 - accuracy: 0.9679 - val_loss: 2.7183 - val_accuracy: 0.4929 - lr: 8.0000e-04\n",
            "Epoch 7/15\n",
            "140/140 [==============================] - ETA: 0s - loss: 0.0936 - accuracy: 0.9723\n",
            "Epoch 7: val_accuracy improved from 0.86786 to 0.96786, saving model to /content/drive/MyDrive/paper/K-fold code/ResNet50V2_kfold1.h5\n",
            "140/140 [==============================] - 25s 179ms/step - loss: 0.0936 - accuracy: 0.9723 - val_loss: 0.0772 - val_accuracy: 0.9679 - lr: 8.0000e-04\n",
            "Epoch 8/15\n",
            "140/140 [==============================] - ETA: 0s - loss: 0.1124 - accuracy: 0.9688\n",
            "Epoch 8: val_accuracy did not improve from 0.96786\n",
            "140/140 [==============================] - 25s 179ms/step - loss: 0.1124 - accuracy: 0.9688 - val_loss: 0.1469 - val_accuracy: 0.9036 - lr: 8.0000e-04\n",
            "Epoch 9/15\n",
            "140/140 [==============================] - ETA: 0s - loss: 0.0376 - accuracy: 0.9875\n",
            "Epoch 9: val_accuracy did not improve from 0.96786\n",
            "140/140 [==============================] - 23s 162ms/step - loss: 0.0376 - accuracy: 0.9875 - val_loss: 0.4817 - val_accuracy: 0.6929 - lr: 8.0000e-04\n",
            "Epoch 10/15\n",
            "140/140 [==============================] - ETA: 0s - loss: 0.1434 - accuracy: 0.9616\n",
            "Epoch 10: val_accuracy did not improve from 0.96786\n",
            "140/140 [==============================] - 21s 151ms/step - loss: 0.1434 - accuracy: 0.9616 - val_loss: 3.1510 - val_accuracy: 0.6893 - lr: 8.0000e-04\n",
            "Epoch 11/15\n",
            "140/140 [==============================] - ETA: 0s - loss: 0.1183 - accuracy: 0.9705\n",
            "Epoch 11: val_accuracy did not improve from 0.96786\n",
            "140/140 [==============================] - 24s 173ms/step - loss: 0.1183 - accuracy: 0.9705 - val_loss: 0.7697 - val_accuracy: 0.6429 - lr: 8.0000e-04\n",
            "Epoch 12/15\n",
            "140/140 [==============================] - ETA: 0s - loss: 0.1482 - accuracy: 0.9509\n",
            "Epoch 12: val_accuracy did not improve from 0.96786\n",
            "140/140 [==============================] - 21s 149ms/step - loss: 0.1482 - accuracy: 0.9509 - val_loss: 0.9508 - val_accuracy: 0.6821 - lr: 8.0000e-04\n",
            "Epoch 13/15\n",
            "140/140 [==============================] - ETA: 0s - loss: 0.2552 - accuracy: 0.9054\n",
            "Epoch 13: val_accuracy did not improve from 0.96786\n",
            "140/140 [==============================] - 23s 166ms/step - loss: 0.2552 - accuracy: 0.9054 - val_loss: 4067.5925 - val_accuracy: 0.5179 - lr: 8.0000e-04\n",
            "Epoch 14/15\n",
            "140/140 [==============================] - ETA: 0s - loss: 0.1545 - accuracy: 0.9491\n",
            "Epoch 14: val_accuracy improved from 0.96786 to 0.98929, saving model to /content/drive/MyDrive/paper/K-fold code/ResNet50V2_kfold1.h5\n",
            "140/140 [==============================] - 27s 190ms/step - loss: 0.1545 - accuracy: 0.9491 - val_loss: 0.0190 - val_accuracy: 0.9893 - lr: 8.0000e-04\n",
            "Epoch 15/15\n",
            "140/140 [==============================] - ETA: 0s - loss: 0.1137 - accuracy: 0.9696\n",
            "Epoch 15: val_accuracy did not improve from 0.98929\n",
            "140/140 [==============================] - 21s 152ms/step - loss: 0.1137 - accuracy: 0.9696 - val_loss: 0.2228 - val_accuracy: 0.9893 - lr: 8.0000e-04\n"
          ]
        }
      ],
      "source": [
        "H = model.fit(train , epochs=15, callbacks=[model_save, csv_loger, LearningRateScheduler(set_decay)]\n",
        "                        , validation_data = (x_test, y_test),shuffle=True )"
      ]
    },
    {
      "cell_type": "code",
      "execution_count": null,
      "metadata": {
        "id": "3tO1ERtKIeid",
        "colab": {
          "base_uri": "https://localhost:8080/",
          "height": 291
        },
        "outputId": "b23816f9-0ae7-4412-c37a-c04c74376b7e"
      },
      "outputs": [
        {
          "output_type": "display_data",
          "data": {
            "text/plain": [
              "<Figure size 3000x500 with 2 Axes>"
            ],
            "image/png": "[encoded data removed]"
          },
          "metadata": {}
        }
      ],
      "source": [
        "plt.figure(figsize=(30,5))\n",
        "plt.subplot(121)\n",
        "plt.plot(H.history['accuracy'])\n",
        "plt.plot(H.history['val_accuracy'])\n",
        "plt.title(\"Model accuracy\")\n",
        "plt.ylabel(\"accuracy\")\n",
        "plt.xlabel(\"Epoch\")\n",
        "plt.legend(['tarin', \"validation\"] , loc=\"upper left\")\n",
        "plt.subplot(122)\n",
        "plt.plot(H.history['loss'])\n",
        "plt.plot(H.history['val_loss'])\n",
        "plt.title(\"Model loss\")\n",
        "plt.ylabel(\"loss\")\n",
        "plt.xlabel(\"Epoch\")\n",
        "plt.legend(['tarin', \"validation\"] , loc=\"upper left\")\n",
        "plt.show()"
      ]
    },
    {
      "cell_type": "code",
      "execution_count": null,
      "metadata": {
        "id": "-Bg96OpIJZcp"
      },
      "outputs": [],
      "source": [
        "model = tf.keras.models.load_model(\"/content/drive/MyDrive/paper/K-fold code/ResNet50V2_kfold1.h5\")"
      ]
    },
    {
      "cell_type": "code",
      "execution_count": null,
      "metadata": {
        "id": "-VnhkQP0Iemd",
        "colab": {
          "base_uri": "https://localhost:8080/"
        },
        "outputId": "3d900e26-ed0b-42da-de43-3c1b8f3dcc12"
      },
      "outputs": [
        {
          "output_type": "stream",
          "name": "stdout",
          "text": [
            "35/35 [==============================] - 4s 88ms/step - loss: 0.0522 - accuracy: 0.9830\n"
          ]
        },
        {
          "output_type": "execute_result",
          "data": {
            "text/plain": [
              "[0.05216727778315544, 0.9830357432365417]"
            ]
          },
          "metadata": {},
          "execution_count": 20
        }
      ],
      "source": [
        "#train\n",
        "model.evaluate(x_train,y_train)"
      ]
    },
    {
      "cell_type": "code",
      "execution_count": null,
      "metadata": {
        "id": "nOOYbNGJIepx",
        "colab": {
          "base_uri": "https://localhost:8080/"
        },
        "outputId": "6c88234d-0966-4822-8a27-6bd3740afea5"
      },
      "outputs": [
        {
          "output_type": "stream",
          "name": "stdout",
          "text": [
            "9/9 [==============================] - 2s 94ms/step - loss: 0.0190 - accuracy: 0.9893\n"
          ]
        },
        {
          "output_type": "execute_result",
          "data": {
            "text/plain": [
              "[0.01902935467660427, 0.9892857074737549]"
            ]
          },
          "metadata": {},
          "execution_count": 21
        }
      ],
      "source": [
        "#test\n",
        "model.evaluate(x_test, y_test)"
      ]
    },
    {
      "cell_type": "code",
      "execution_count": null,
      "metadata": {
        "id": "wZ9r-C8nJ004",
        "colab": {
          "base_uri": "https://localhost:8080/"
        },
        "outputId": "131eb2e6-76f5-48b2-e202-0a8172516c8d"
      },
      "outputs": [
        {
          "output_type": "stream",
          "name": "stdout",
          "text": [
            "9/9 [==============================] - 2s 93ms/step\n"
          ]
        }
      ],
      "source": [
        "prediction=model.predict(x_test)"
      ]
    },
    {
      "cell_type": "code",
      "execution_count": null,
      "metadata": {
        "id": "QwNgKI9AK2CL"
      },
      "outputs": [],
      "source": [
        "prediction=np.argmax(prediction,-1)\n",
        "y_test=np.argmax(y_test,-1)"
      ]
    },
    {
      "cell_type": "code",
      "execution_count": null,
      "metadata": {
        "id": "5S48jvnyK7pL",
        "colab": {
          "base_uri": "https://localhost:8080/"
        },
        "outputId": "2e86840d-3947-41e2-b56a-052efb0acd0f"
      },
      "outputs": [
        {
          "output_type": "stream",
          "name": "stdout",
          "text": [
            "98.95186335403727\n"
          ]
        }
      ],
      "source": [
        "# Calculate precision, recall, and F1-score\n",
        "precision = precision_score(y_test , prediction ,  average=\"weighted\")\n",
        "print(precision*100)"
      ]
    },
    {
      "cell_type": "code",
      "execution_count": null,
      "metadata": {
        "id": "VyaK2iMcK9F4",
        "colab": {
          "base_uri": "https://localhost:8080/"
        },
        "outputId": "67200682-6070-475e-e489-bc64ad456360"
      },
      "outputs": [
        {
          "output_type": "stream",
          "name": "stdout",
          "text": [
            "98.92857142857143\n"
          ]
        }
      ],
      "source": [
        "recal = recall_score(y_test , prediction ,  average=\"weighted\")\n",
        "print(recal*100)"
      ]
    },
    {
      "cell_type": "code",
      "execution_count": null,
      "metadata": {
        "id": "79DA0tWeK_aB",
        "colab": {
          "base_uri": "https://localhost:8080/"
        },
        "outputId": "920d64aa-ba71-4305-a931-9e82f8c9f0be"
      },
      "outputs": [
        {
          "output_type": "stream",
          "name": "stdout",
          "text": [
            "98.92885859784813\n"
          ]
        }
      ],
      "source": [
        "f1 = f1_score(y_test , prediction ,  average=\"weighted\")\n",
        "print(f1*100)"
      ]
    },
    {
      "cell_type": "code",
      "execution_count": null,
      "metadata": {
        "id": "_DeTjEp5LBju",
        "colab": {
          "base_uri": "https://localhost:8080/"
        },
        "outputId": "e5c3c7bb-f151-4310-eafc-dc371c5563c9"
      },
      "outputs": [
        {
          "output_type": "stream",
          "name": "stdout",
          "text": [
            "              precision    recall  f1-score   support\n",
            "\n",
            "           0       0.98      1.00      0.99       135\n",
            "           1       1.00      0.98      0.99       145\n",
            "\n",
            "    accuracy                           0.99       280\n",
            "   macro avg       0.99      0.99      0.99       280\n",
            "weighted avg       0.99      0.99      0.99       280\n",
            "\n"
          ]
        }
      ],
      "source": [
        "print(classification_report(y_test , prediction))"
      ]
    },
    {
      "cell_type": "code",
      "execution_count": null,
      "metadata": {
        "id": "33RGmDHRLD_0",
        "colab": {
          "base_uri": "https://localhost:8080/"
        },
        "outputId": "8e2802ec-4ac3-4ccf-d6a9-217d1b0a5145"
      },
      "outputs": [
        {
          "output_type": "execute_result",
          "data": {
            "text/plain": [
              "array([[135,   0],\n",
              "       [  3, 142]])"
            ]
          },
          "metadata": {},
          "execution_count": 28
        }
      ],
      "source": [
        "# Generate confusion matrix\n",
        "confusion_matrix(y_test , prediction)"
      ]
    },
    {
      "cell_type": "code",
      "execution_count": null,
      "metadata": {
        "id": "ZSceLgp9LzNi",
        "colab": {
          "base_uri": "https://localhost:8080/",
          "height": 472
        },
        "outputId": "071e9796-6e5a-4737-8924-10a1187d050d"
      },
      "outputs": [
        {
          "output_type": "display_data",
          "data": {
            "text/plain": [
              "<Figure size 640x480 with 2 Axes>"
            ],
            "image/png": "[encoded data removed]"
          },
          "metadata": {}
        }
      ],
      "source": [
        "cm=confusion_matrix(y_test , prediction)\n",
        "target_names = [\"normal\" , \"pation\"]\n",
        "disp = ConfusionMatrixDisplay(confusion_matrix=cm,  display_labels=target_names)\n",
        "disp.plot(cmap=plt.cm.Blues)\n",
        "plt.xlabel(\"Predicted labels\")\n",
        "plt.title('Confusion matrix ')\n",
        "plt.ylabel(\"True labels\")\n",
        "plt.show()"
      ]
    }
  ],
  "metadata": {
    "accelerator": "GPU",
    "colab": {
      "provenance": [],
      "mount_file_id": "1UBG_5WV7GMCCRduzkHLXEYhF6hMzA_2d",
      "authorship_tag": "ABX9TyObf2eP/Mh4Q1fWXKpQYQqe",
      "include_colab_link": true
    },
    "gpuClass": "standard",
    "kernelspec": {
      "display_name": "Python 3",
      "name": "python3"
    },
    "language_info": {
      "name": "python"
    }
  },
  "nbformat": 4,
  "nbformat_minor": 0
}
