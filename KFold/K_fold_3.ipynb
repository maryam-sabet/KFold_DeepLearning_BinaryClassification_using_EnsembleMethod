{
  "nbformat": 4,
  "nbformat_minor": 0,
  "metadata": {
    "colab": {
      "provenance": [],
      "mount_file_id": "17oDQAK2ExEb1MlJjZGqCAF2P2whUrMmx",
      "authorship_tag": "ABX9TyOsPQgHqlhN556sizuZNGvt",
      "include_colab_link": true
    },
    "kernelspec": {
      "name": "python3",
      "display_name": "Python 3"
    },
    "language_info": {
      "name": "python"
    },
    "accelerator": "GPU",
    "gpuClass": "standard"
  },
  "cells": [
    {
      "cell_type": "markdown",
      "metadata": {
        "id": "view-in-github",
        "colab_type": "text"
      },
      "source": [
        "<a href=\"https://colab.research.google.com/github/maryam-sabet/KFold_DeepLearning_BinaryClassification_using_EnsembleMethod/blob/main/K_fold_3.ipynb\" target=\"_parent\"><img src=\"https://colab.research.google.com/assets/colab-badge.svg\" alt=\"Open In Colab\"/></a>"
      ]
    },
    {
      "cell_type": "markdown",
      "source": [
        "# **Change tensorflow version**"
      ],
      "metadata": {
        "id": "Ksiytk9lpNlA"
      }
    },
    {
      "cell_type": "code",
      "source": [
        "!pip install tensorflow==2.9.1"
      ],
      "metadata": {
        "id": "FXU5SP3ApQKW"
      },
      "execution_count": null,
      "outputs": []
    },
    {
      "cell_type": "markdown",
      "source": [
        "# **Libraries**"
      ],
      "metadata": {
        "id": "hZtaL0SxpZfv"
      }
    },
    {
      "cell_type": "code",
      "source": [
        "import glob\n",
        "import cv2\n",
        "from google.colab.patches import cv2_imshow\n",
        "import matplotlib.pyplot as plt\n",
        "import random\n",
        "import numpy as np\n",
        "import keras\n",
        "import tensorflow as tf\n",
        "from sklearn.model_selection import train_test_split\n",
        "from sklearn import preprocessing\n",
        "from keras.utils import to_categorical\n",
        "from tensorflow import keras\n",
        "from tensorflow.keras.utils import plot_model\n",
        "from tensorflow.keras.preprocessing.image import ImageDataGenerator\n",
        "from tensorflow.keras.applications import VGG16,DenseNet169,Xception,MobileNet,MobileNetV2,NASNetMobile,EfficientNetB0,DenseNet121,EfficientNetV2B0,ResNet50V2\n",
        "from tensorflow.keras.models import Model\n",
        "from sklearn.model_selection import KFold\n",
        "from tensorflow.keras import layers\n",
        "from tensorflow.keras.layers import Dense, GlobalAveragePooling2D, Input,Flatten,Dropout\n",
        "from tensorflow.keras.callbacks import ModelCheckpoint , CSVLogger , LearningRateScheduler\n",
        "from sklearn.metrics import precision_score , recall_score , f1_score , confusion_matrix , ConfusionMatrixDisplay ,classification_report\n"
      ],
      "metadata": {
        "id": "sy-pwaD4pdjv"
      },
      "execution_count": null,
      "outputs": []
    },
    {
      "cell_type": "code",
      "source": [
        "tf.__version__"
      ],
      "metadata": {
        "id": "LGyGgja4-flU",
        "colab": {
          "base_uri": "https://localhost:8080/",
          "height": 36
        },
        "outputId": "675efd52-7c57-4a63-a274-b9049629f40c"
      },
      "execution_count": null,
      "outputs": [
        {
          "output_type": "execute_result",
          "data": {
            "text/plain": [
              "'2.9.1'"
            ],
            "application/vnd.google.colaboratory.intrinsic+json": {
              "type": "string"
            }
          },
          "metadata": {},
          "execution_count": 31
        }
      ]
    },
    {
      "cell_type": "markdown",
      "source": [
        "# **Loading data**"
      ],
      "metadata": {
        "id": "IZqVwUgYeaH3"
      }
    },
    {
      "cell_type": "code",
      "source": [
        "x_train =np.load(\"/content/drive/MyDrive/paper/K-fold code/dataset_npy/X_train_fold_3.npy\",allow_pickle=True)\n",
        "y_train=np.load(\"/content/drive/MyDrive/paper/K-fold code/dataset_npy/Y_train_fold_3.npy\",allow_pickle=True)\n",
        "x_test = np.load(\"/content/drive/MyDrive/paper/K-fold code/dataset_npy/X_test_fold_3.npy\",allow_pickle=True)\n",
        "y_test = np.load(\"/content/drive/MyDrive/paper/K-fold code/dataset_npy/Y_test_fold_3.npy\",allow_pickle=True)\n"
      ],
      "metadata": {
        "id": "Vm_yfSSGuTZe"
      },
      "execution_count": null,
      "outputs": []
    },
    {
      "cell_type": "code",
      "source": [
        "print(x_train.shape ,y_train.shape ,x_test.shape , y_test.shape  )"
      ],
      "metadata": {
        "colab": {
          "base_uri": "https://localhost:8080/"
        },
        "id": "g9cIHfSDFdUb",
        "outputId": "eb0e46b8-b5ec-4f83-b09e-ad121bfa2b15"
      },
      "execution_count": null,
      "outputs": [
        {
          "output_type": "stream",
          "name": "stdout",
          "text": [
            "(1120, 224, 224, 3) (1120,) (280, 224, 224, 3) (280,)\n"
          ]
        }
      ]
    },
    {
      "cell_type": "code",
      "source": [
        "# Shuffle the data\n",
        "random.seed(1254)\n",
        "combined = list(zip(x_train, y_train))\n",
        "random.shuffle(combined)\n",
        "\n",
        "\n",
        "x_train, y_train = zip(*combined)\n",
        "y_train = np.array(y_train)\n",
        "x_train = np.array(x_train)"
      ],
      "metadata": {
        "id": "7wxK4rU8lpJO"
      },
      "execution_count": null,
      "outputs": []
    },
    {
      "cell_type": "code",
      "source": [
        "# Display class distribution\n",
        "class_label = np.unique(y_train , return_counts=True)\n",
        "print(class_label)\n",
        "\n",
        "class_label[1][0]"
      ],
      "metadata": {
        "colab": {
          "base_uri": "https://localhost:8080/"
        },
        "id": "xmIzwTKzu8V7",
        "outputId": "5926dd02-48f9-41e2-ff83-0dc42e84cab7"
      },
      "execution_count": null,
      "outputs": [
        {
          "output_type": "stream",
          "name": "stdout",
          "text": [
            "(array(['Normal', 'patient'], dtype='<U7'), array([559, 561]))\n"
          ]
        },
        {
          "output_type": "execute_result",
          "data": {
            "text/plain": [
              "559"
            ]
          },
          "metadata": {},
          "execution_count": 35
        }
      ]
    },
    {
      "cell_type": "markdown",
      "source": [
        "# **Preprosesing for build the model...**"
      ],
      "metadata": {
        "id": "FOGExaCQfF0e"
      }
    },
    {
      "cell_type": "code",
      "source": [
        "# Label binarizing\n",
        "lb = preprocessing.LabelBinarizer()\n",
        "\n",
        "# Convert labels to categorical\n",
        "y_train = lb.fit_transform(y_train)\n",
        "y_train = to_categorical(y_train , num_classes=2)\n",
        "\n",
        "y_test = lb.fit_transform(y_test)\n",
        "y_test = to_categorical(y_test , num_classes=2)"
      ],
      "metadata": {
        "id": "rWzKNizsy02G"
      },
      "execution_count": null,
      "outputs": []
    },
    {
      "cell_type": "code",
      "source": [
        "print(x_train.shape ,y_train.shape ,x_test.shape , y_test.shape  )"
      ],
      "metadata": {
        "colab": {
          "base_uri": "https://localhost:8080/"
        },
        "id": "1ojb_4J2HzRx",
        "outputId": "0a0be725-db4d-43d1-e7b3-c6b91595a0f8"
      },
      "execution_count": null,
      "outputs": [
        {
          "output_type": "stream",
          "name": "stdout",
          "text": [
            "(1120, 224, 224, 3) (1120, 2) (280, 224, 224, 3) (280, 2)\n"
          ]
        }
      ]
    },
    {
      "cell_type": "markdown",
      "source": [
        "# **Models**"
      ],
      "metadata": {
        "id": "vj_budWBf6jO"
      }
    },
    {
      "cell_type": "code",
      "source": [
        "# Define model checkpoint for saving best model during training\n",
        "model_save = ModelCheckpoint(\"/content/drive/MyDrive/paper/K-fold code/ResNet50V2_kfold3.h5\" , save_best_only=True , verbose=2 , monitor=\"val_accuracy\" , mode=\"max\" )\n"
      ],
      "metadata": {
        "id": "n1Qp-5RU8PCM"
      },
      "execution_count": null,
      "outputs": []
    },
    {
      "cell_type": "code",
      "source": [
        "# Load pre-trained ResNet50V2 model\n",
        "base_model = ResNet50V2(weights=\"imagenet\", include_top=False , input_tensor=Input(shape=(224,224,3)))\n",
        "\n",
        "# Add custom layers on top of the pre-trained model\n",
        "x = base_model.output\n",
        "x = GlobalAveragePooling2D()(x)\n",
        "x = Flatten(name=\"flatting\")(x)\n",
        "x = Dense(128, activation='relu')(x)\n",
        "x= Dropout(0.3)(x)\n",
        "predictions = Dense(2, activation='softmax')(x)\n",
        "# this is the model we will train\n",
        "model = Model(inputs=base_model.input, outputs=predictions)"
      ],
      "metadata": {
        "id": "4KvPa59o76Pn",
        "colab": {
          "base_uri": "https://localhost:8080/"
        },
        "outputId": "f60b6f88-b2f7-423f-ceba-0de00facc61c"
      },
      "execution_count": null,
      "outputs": [
        {
          "output_type": "stream",
          "name": "stdout",
          "text": [
            "Downloading data from https://storage.googleapis.com/tensorflow/keras-applications/resnet/resnet50v2_weights_tf_dim_ordering_tf_kernels_notop.h5\n",
            "94668760/94668760 [==============================] - 3s 0us/step\n"
          ]
        }
      ]
    },
    {
      "cell_type": "markdown",
      "source": [
        "# **preprocessing for fit model and fit**"
      ],
      "metadata": {
        "id": "LSAJgKMc4E07"
      }
    },
    {
      "cell_type": "code",
      "source": [
        "csv_loger = CSVLogger(\"/content/drive/MyDrive/paper/K-fold code/ResNet50V2_kfold3.csv\" , append=True)"
      ],
      "metadata": {
        "id": "OoKte9OjgdD3"
      },
      "execution_count": null,
      "outputs": []
    },
    {
      "cell_type": "code",
      "source": [
        "# Define learning rate scheduler function\n",
        "def set_decay(epoch):\n",
        "  initAlpha =0.0008\n",
        "  factor = 0.9\n",
        "  dropEvery = 25\n",
        "  aplpha = initAlpha * (factor**np.floor((1+epoch) / dropEvery))\n",
        "  return float(aplpha)"
      ],
      "metadata": {
        "id": "Xpq8uY64hiR_"
      },
      "execution_count": null,
      "outputs": []
    },
    {
      "cell_type": "code",
      "source": [
        "optim = keras.optimizers.Adam(learning_rate = 0.0008)\n",
        "model.compile(optim , loss=\"categorical_crossentropy\" , metrics=[\"accuracy\"])\n"
      ],
      "metadata": {
        "id": "y3EMVGXXCvUx"
      },
      "execution_count": null,
      "outputs": []
    },
    {
      "cell_type": "code",
      "source": [
        "batch_size = 8\n",
        "TrainStep = len(x_train) / batch_size\n",
        "ValStep = len(x_test) / batch_size"
      ],
      "metadata": {
        "id": "xe03JKPGe0ce"
      },
      "execution_count": null,
      "outputs": []
    },
    {
      "cell_type": "code",
      "source": [
        "x_train=x_train/255.0\n",
        "x_test=x_test/255.0"
      ],
      "metadata": {
        "id": "yF8wYjCvuwJ-"
      },
      "execution_count": null,
      "outputs": []
    },
    {
      "cell_type": "code",
      "source": [
        "# generating with functions\n",
        "datagen = ImageDataGenerator(width_shift_range=0.1, height_shift_range=0.1, horizontal_flip=True)\n",
        "train = datagen.flow(x_train, y_train, batch_size=8)"
      ],
      "metadata": {
        "id": "vMEbD6vPxedH"
      },
      "execution_count": null,
      "outputs": []
    },
    {
      "cell_type": "code",
      "source": [
        "H = model.fit(train , epochs=15, callbacks=[model_save, csv_loger, LearningRateScheduler(set_decay)]\n",
        "                        , validation_data = (x_test, y_test),shuffle=True )"
      ],
      "metadata": {
        "colab": {
          "base_uri": "https://localhost:8080/"
        },
        "id": "fIAbcxteIees",
        "outputId": "60b9f17e-c086-4136-fb0a-7ca5c57cf9ca"
      },
      "execution_count": null,
      "outputs": [
        {
          "output_type": "stream",
          "name": "stdout",
          "text": [
            "Epoch 1/15\n",
            "140/140 [==============================] - ETA: 0s - loss: 0.4204 - accuracy: 0.8009\n",
            "Epoch 1: val_accuracy improved from -inf to 0.50357, saving model to /content/drive/MyDrive/paper/K-fold code/ResNet50V2_kfold3.h5\n",
            "140/140 [==============================] - 36s 194ms/step - loss: 0.4204 - accuracy: 0.8009 - val_loss: 12.0463 - val_accuracy: 0.5036 - lr: 8.0000e-04\n",
            "Epoch 2/15\n",
            "140/140 [==============================] - ETA: 0s - loss: 0.3597 - accuracy: 0.8777\n",
            "Epoch 2: val_accuracy did not improve from 0.50357\n",
            "140/140 [==============================] - 22s 158ms/step - loss: 0.3597 - accuracy: 0.8777 - val_loss: 101.9608 - val_accuracy: 0.1071 - lr: 8.0000e-04\n",
            "Epoch 3/15\n",
            "140/140 [==============================] - ETA: 0s - loss: 0.2710 - accuracy: 0.9286\n",
            "Epoch 3: val_accuracy improved from 0.50357 to 0.98571, saving model to /content/drive/MyDrive/paper/K-fold code/ResNet50V2_kfold3.h5\n",
            "140/140 [==============================] - 28s 199ms/step - loss: 0.2710 - accuracy: 0.9286 - val_loss: 0.0247 - val_accuracy: 0.9857 - lr: 8.0000e-04\n",
            "Epoch 4/15\n",
            "140/140 [==============================] - ETA: 0s - loss: 0.2051 - accuracy: 0.9232\n",
            "Epoch 4: val_accuracy did not improve from 0.98571\n",
            "140/140 [==============================] - 22s 157ms/step - loss: 0.2051 - accuracy: 0.9232 - val_loss: 3.6172 - val_accuracy: 0.5107 - lr: 8.0000e-04\n",
            "Epoch 5/15\n",
            "140/140 [==============================] - ETA: 0s - loss: 0.1991 - accuracy: 0.9455\n",
            "Epoch 5: val_accuracy did not improve from 0.98571\n",
            "140/140 [==============================] - 21s 153ms/step - loss: 0.1991 - accuracy: 0.9455 - val_loss: 9.8845 - val_accuracy: 0.6643 - lr: 8.0000e-04\n",
            "Epoch 6/15\n",
            "140/140 [==============================] - ETA: 0s - loss: 0.2427 - accuracy: 0.9205\n",
            "Epoch 6: val_accuracy did not improve from 0.98571\n",
            "140/140 [==============================] - 23s 165ms/step - loss: 0.2427 - accuracy: 0.9205 - val_loss: 0.6855 - val_accuracy: 0.5036 - lr: 8.0000e-04\n",
            "Epoch 7/15\n",
            "140/140 [==============================] - ETA: 0s - loss: 0.2208 - accuracy: 0.9366\n",
            "Epoch 7: val_accuracy did not improve from 0.98571\n",
            "140/140 [==============================] - 22s 160ms/step - loss: 0.2208 - accuracy: 0.9366 - val_loss: 0.9550 - val_accuracy: 0.8679 - lr: 8.0000e-04\n",
            "Epoch 8/15\n",
            "140/140 [==============================] - ETA: 0s - loss: 0.1542 - accuracy: 0.9580\n",
            "Epoch 8: val_accuracy did not improve from 0.98571\n",
            "140/140 [==============================] - 21s 153ms/step - loss: 0.1542 - accuracy: 0.9580 - val_loss: 0.7733 - val_accuracy: 0.5964 - lr: 8.0000e-04\n",
            "Epoch 9/15\n",
            "140/140 [==============================] - ETA: 0s - loss: 0.1828 - accuracy: 0.9563\n",
            "Epoch 9: val_accuracy did not improve from 0.98571\n",
            "140/140 [==============================] - 21s 153ms/step - loss: 0.1828 - accuracy: 0.9563 - val_loss: 0.2300 - val_accuracy: 0.9036 - lr: 8.0000e-04\n",
            "Epoch 10/15\n",
            "140/140 [==============================] - ETA: 0s - loss: 0.1457 - accuracy: 0.9634\n",
            "Epoch 10: val_accuracy did not improve from 0.98571\n",
            "140/140 [==============================] - 23s 164ms/step - loss: 0.1457 - accuracy: 0.9634 - val_loss: 0.0832 - val_accuracy: 0.9786 - lr: 8.0000e-04\n",
            "Epoch 11/15\n",
            "140/140 [==============================] - ETA: 0s - loss: 0.1304 - accuracy: 0.9679\n",
            "Epoch 11: val_accuracy improved from 0.98571 to 0.99286, saving model to /content/drive/MyDrive/paper/K-fold code/ResNet50V2_kfold3.h5\n",
            "140/140 [==============================] - 25s 180ms/step - loss: 0.1304 - accuracy: 0.9679 - val_loss: 0.0392 - val_accuracy: 0.9929 - lr: 8.0000e-04\n",
            "Epoch 12/15\n",
            "140/140 [==============================] - ETA: 0s - loss: 0.1139 - accuracy: 0.9670\n",
            "Epoch 12: val_accuracy did not improve from 0.99286\n",
            "140/140 [==============================] - 24s 168ms/step - loss: 0.1139 - accuracy: 0.9670 - val_loss: 0.0937 - val_accuracy: 0.9750 - lr: 8.0000e-04\n",
            "Epoch 13/15\n",
            "140/140 [==============================] - ETA: 0s - loss: 0.0602 - accuracy: 0.9866\n",
            "Epoch 13: val_accuracy did not improve from 0.99286\n",
            "140/140 [==============================] - 23s 162ms/step - loss: 0.0602 - accuracy: 0.9866 - val_loss: 0.0960 - val_accuracy: 0.9750 - lr: 8.0000e-04\n",
            "Epoch 14/15\n",
            "140/140 [==============================] - ETA: 0s - loss: 0.0627 - accuracy: 0.9857\n",
            "Epoch 14: val_accuracy did not improve from 0.99286\n",
            "140/140 [==============================] - 21s 152ms/step - loss: 0.0627 - accuracy: 0.9857 - val_loss: 0.3353 - val_accuracy: 0.9179 - lr: 8.0000e-04\n",
            "Epoch 15/15\n",
            "140/140 [==============================] - ETA: 0s - loss: 0.0978 - accuracy: 0.9812\n",
            "Epoch 15: val_accuracy did not improve from 0.99286\n",
            "140/140 [==============================] - 21s 153ms/step - loss: 0.0978 - accuracy: 0.9812 - val_loss: 36.7686 - val_accuracy: 0.4964 - lr: 8.0000e-04\n"
          ]
        }
      ]
    },
    {
      "cell_type": "code",
      "source": [
        "plt.figure(figsize=(30,5))\n",
        "plt.subplot(121)\n",
        "plt.plot(H.history['accuracy'])\n",
        "plt.plot(H.history['val_accuracy'])\n",
        "plt.title(\"Model accuracy\")\n",
        "plt.ylabel(\"accuracy\")\n",
        "plt.xlabel(\"Epoch\")\n",
        "plt.legend(['tarin', \"validation\"] , loc=\"upper left\")\n",
        "plt.subplot(122)\n",
        "plt.plot(H.history['loss'])\n",
        "plt.plot(H.history['val_loss'])\n",
        "plt.title(\"Model loss\")\n",
        "plt.ylabel(\"loss\")\n",
        "plt.xlabel(\"Epoch\")\n",
        "plt.legend(['tarin', \"validation\"] , loc=\"upper left\")\n",
        "plt.show()"
      ],
      "metadata": {
        "colab": {
          "base_uri": "https://localhost:8080/",
          "height": 291
        },
        "id": "3tO1ERtKIeid",
        "outputId": "8c972e1d-3fc9-4151-cbf1-9ad6acf47346"
      },
      "execution_count": null,
      "outputs": [
        {
          "output_type": "display_data",
          "data": {
            "text/plain": [
              "<Figure size 3000x500 with 2 Axes>"
            ],
            "image/png": "[encoded data removed]"
          },
          "metadata": {}
        }
      ]
    },
    {
      "cell_type": "code",
      "source": [
        "model = tf.keras.models.load_model(\"/content/drive/MyDrive/paper/K-fold code/ResNet50V2_kfold3.h5\")"
      ],
      "metadata": {
        "id": "-Bg96OpIJZcp"
      },
      "execution_count": null,
      "outputs": []
    },
    {
      "cell_type": "code",
      "source": [
        "#train\n",
        "model.evaluate(x_train,y_train)"
      ],
      "metadata": {
        "colab": {
          "base_uri": "https://localhost:8080/"
        },
        "id": "-VnhkQP0Iemd",
        "outputId": "4535def5-0dc9-4c42-a8de-7ad70ad0686d"
      },
      "execution_count": null,
      "outputs": [
        {
          "output_type": "stream",
          "name": "stdout",
          "text": [
            "35/35 [==============================] - 5s 97ms/step - loss: 0.0481 - accuracy: 0.9902\n"
          ]
        },
        {
          "output_type": "execute_result",
          "data": {
            "text/plain": [
              "[0.04808511212468147, 0.9901785850524902]"
            ]
          },
          "metadata": {},
          "execution_count": 49
        }
      ]
    },
    {
      "cell_type": "code",
      "source": [
        "#test\n",
        "model.evaluate(x_test, y_test)"
      ],
      "metadata": {
        "colab": {
          "base_uri": "https://localhost:8080/"
        },
        "id": "nOOYbNGJIepx",
        "outputId": "033dd0cd-8e2e-4c88-a6ef-3f6114fcc88b"
      },
      "execution_count": null,
      "outputs": [
        {
          "output_type": "stream",
          "name": "stdout",
          "text": [
            "9/9 [==============================] - 2s 93ms/step - loss: 0.0392 - accuracy: 0.9929\n"
          ]
        },
        {
          "output_type": "execute_result",
          "data": {
            "text/plain": [
              "[0.03916184976696968, 0.9928571581840515]"
            ]
          },
          "metadata": {},
          "execution_count": 50
        }
      ]
    },
    {
      "cell_type": "code",
      "source": [
        "prediction=model.predict(x_test)"
      ],
      "metadata": {
        "colab": {
          "base_uri": "https://localhost:8080/"
        },
        "id": "wZ9r-C8nJ004",
        "outputId": "e664dcf1-c1a0-434a-d039-338aa1ffbe7f"
      },
      "execution_count": null,
      "outputs": [
        {
          "output_type": "stream",
          "name": "stdout",
          "text": [
            "9/9 [==============================] - 2s 85ms/step\n"
          ]
        }
      ]
    },
    {
      "cell_type": "code",
      "source": [
        "prediction=np.argmax(prediction,-1)\n",
        "y_test=np.argmax(y_test,-1)"
      ],
      "metadata": {
        "id": "QwNgKI9AK2CL"
      },
      "execution_count": null,
      "outputs": []
    },
    {
      "cell_type": "code",
      "source": [
        "# Calculate precision, recall, and F1-score\n",
        "precision = precision_score(y_test , prediction ,  average=\"weighted\")\n",
        "print(precision*100)"
      ],
      "metadata": {
        "colab": {
          "base_uri": "https://localhost:8080/"
        },
        "id": "5S48jvnyK7pL",
        "outputId": "d67c31d3-a2c9-4b89-f68d-21ce3b2ec817"
      },
      "execution_count": null,
      "outputs": [
        {
          "output_type": "stream",
          "name": "stdout",
          "text": [
            "99.28571428571429\n"
          ]
        }
      ]
    },
    {
      "cell_type": "code",
      "source": [
        "recal = recall_score(y_test , prediction ,  average=\"weighted\")\n",
        "print(recal*100)"
      ],
      "metadata": {
        "colab": {
          "base_uri": "https://localhost:8080/"
        },
        "id": "VyaK2iMcK9F4",
        "outputId": "d7077118-faec-43cd-b8f0-88ba924f6d65"
      },
      "execution_count": null,
      "outputs": [
        {
          "output_type": "stream",
          "name": "stdout",
          "text": [
            "99.28571428571429\n"
          ]
        }
      ]
    },
    {
      "cell_type": "code",
      "source": [
        "f1 = f1_score(y_test , prediction ,  average=\"weighted\")\n",
        "print(f1*100)"
      ],
      "metadata": {
        "colab": {
          "base_uri": "https://localhost:8080/"
        },
        "id": "79DA0tWeK_aB",
        "outputId": "38154546-fc0c-440a-f590-05068081e00c"
      },
      "execution_count": null,
      "outputs": [
        {
          "output_type": "stream",
          "name": "stdout",
          "text": [
            "99.28571428571429\n"
          ]
        }
      ]
    },
    {
      "cell_type": "code",
      "source": [
        "print(classification_report(y_test , prediction))"
      ],
      "metadata": {
        "colab": {
          "base_uri": "https://localhost:8080/"
        },
        "id": "_DeTjEp5LBju",
        "outputId": "54ce8692-0e55-4cc2-9381-f816488d5e3d"
      },
      "execution_count": null,
      "outputs": [
        {
          "output_type": "stream",
          "name": "stdout",
          "text": [
            "              precision    recall  f1-score   support\n",
            "\n",
            "           0       0.99      0.99      0.99       141\n",
            "           1       0.99      0.99      0.99       139\n",
            "\n",
            "    accuracy                           0.99       280\n",
            "   macro avg       0.99      0.99      0.99       280\n",
            "weighted avg       0.99      0.99      0.99       280\n",
            "\n"
          ]
        }
      ]
    },
    {
      "cell_type": "code",
      "source": [
        "confusion_matrix(y_test , prediction)"
      ],
      "metadata": {
        "colab": {
          "base_uri": "https://localhost:8080/"
        },
        "id": "33RGmDHRLD_0",
        "outputId": "4349e882-d6ae-495e-a6c6-6cd6ae7a1d55"
      },
      "execution_count": null,
      "outputs": [
        {
          "output_type": "execute_result",
          "data": {
            "text/plain": [
              "array([[140,   1],\n",
              "       [  1, 138]])"
            ]
          },
          "metadata": {},
          "execution_count": 57
        }
      ]
    },
    {
      "cell_type": "code",
      "source": [
        "cm=confusion_matrix(y_test , prediction)\n",
        "target_names = [\"normal\" , \"pation\"]\n",
        "disp = ConfusionMatrixDisplay(confusion_matrix=cm,  display_labels=target_names)\n",
        "disp.plot(cmap=plt.cm.Blues)\n",
        "plt.xlabel(\"Predicted labels\")\n",
        "plt.title('Confusion matrix ')\n",
        "plt.ylabel(\"True labels\")\n",
        "plt.show()"
      ],
      "metadata": {
        "colab": {
          "base_uri": "https://localhost:8080/",
          "height": 472
        },
        "id": "ZSceLgp9LzNi",
        "outputId": "5214d663-9f50-40c5-9acc-89cdd7f61dce"
      },
      "execution_count": null,
      "outputs": [
        {
          "output_type": "display_data",
          "data": {
            "text/plain": [
              "<Figure size 640x480 with 2 Axes>"
            ],
            "image/png": "[encoded data removed]"
          },
          "metadata": {}
        }
      ]
    },
    {
      "cell_type": "code",
      "source": [],
      "metadata": {
        "id": "bXd6YXtw58JT"
      },
      "execution_count": null,
      "outputs": []
    }
  ]
}
