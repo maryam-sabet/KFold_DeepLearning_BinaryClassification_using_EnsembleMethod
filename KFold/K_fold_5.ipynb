{
  "nbformat": 4,
  "nbformat_minor": 0,
  "metadata": {
    "colab": {
      "provenance": [],
      "mount_file_id": "1fwhkHf6ugNSQa98-abBEl1O-DiaZT8tE",
      "authorship_tag": "ABX9TyOu6dN7aBbFjJXMfanX1kEW",
      "include_colab_link": true
    },
    "kernelspec": {
      "name": "python3",
      "display_name": "Python 3"
    },
    "language_info": {
      "name": "python"
    },
    "gpuClass": "standard",
    "accelerator": "GPU"
  },
  "cells": [
    {
      "cell_type": "markdown",
      "metadata": {
        "id": "view-in-github",
        "colab_type": "text"
      },
      "source": [
        "<a href=\"https://colab.research.google.com/github/maryam-sabet/KFold_DeepLearning_BinaryClassification_using_EnsembleMethod/blob/main/K_fold_5.ipynb\" target=\"_parent\"><img src=\"https://colab.research.google.com/assets/colab-badge.svg\" alt=\"Open In Colab\"/></a>"
      ]
    },
    {
      "cell_type": "markdown",
      "source": [
        "# **Change tensorflow version**"
      ],
      "metadata": {
        "id": "Ksiytk9lpNlA"
      }
    },
    {
      "cell_type": "code",
      "source": [
        "!pip install tensorflow==2.9.1"
      ],
      "metadata": {
        "id": "FXU5SP3ApQKW"
      },
      "execution_count": null,
      "outputs": []
    },
    {
      "cell_type": "markdown",
      "source": [
        "# **Libraries**"
      ],
      "metadata": {
        "id": "hZtaL0SxpZfv"
      }
    },
    {
      "cell_type": "code",
      "source": [
        "import glob\n",
        "import cv2\n",
        "from google.colab.patches import cv2_imshow\n",
        "import matplotlib.pyplot as plt\n",
        "import random\n",
        "import numpy as np\n",
        "import keras\n",
        "import tensorflow as tf\n",
        "from sklearn.model_selection import train_test_split\n",
        "from sklearn import preprocessing\n",
        "from keras.utils import to_categorical\n",
        "from tensorflow import keras\n",
        "from tensorflow.keras.utils import plot_model\n",
        "from tensorflow.keras.preprocessing.image import ImageDataGenerator\n",
        "from tensorflow.keras.applications import VGG16,DenseNet169,Xception,MobileNet,MobileNetV2,NASNetMobile,EfficientNetB0,DenseNet121,EfficientNetV2B0,ResNet50V2\n",
        "from tensorflow.keras.models import Model\n",
        "from sklearn.model_selection import KFold\n",
        "from tensorflow.keras import layers\n",
        "from tensorflow.keras.layers import Dense, GlobalAveragePooling2D, Input,Flatten,Dropout\n",
        "from tensorflow.keras.callbacks import ModelCheckpoint , CSVLogger , LearningRateScheduler\n",
        "from sklearn.metrics import precision_score , recall_score , f1_score , confusion_matrix , ConfusionMatrixDisplay ,classification_report\n"
      ],
      "metadata": {
        "id": "sy-pwaD4pdjv"
      },
      "execution_count": null,
      "outputs": []
    },
    {
      "cell_type": "code",
      "source": [
        "tf.__version__"
      ],
      "metadata": {
        "id": "LGyGgja4-flU",
        "colab": {
          "base_uri": "https://localhost:8080/",
          "height": 35
        },
        "outputId": "76c835fa-9e61-4d42-f335-f34b5c78920e"
      },
      "execution_count": null,
      "outputs": [
        {
          "output_type": "execute_result",
          "data": {
            "text/plain": [
              "'2.9.1'"
            ],
            "application/vnd.google.colaboratory.intrinsic+json": {
              "type": "string"
            }
          },
          "metadata": {},
          "execution_count": 66
        }
      ]
    },
    {
      "cell_type": "markdown",
      "source": [
        "# **Loading data**"
      ],
      "metadata": {
        "id": "IZqVwUgYeaH3"
      }
    },
    {
      "cell_type": "code",
      "source": [
        "x_train =np.load(\"/content/drive/MyDrive/paper/K-fold code/dataset_npy/X_train_fold_5.npy\",allow_pickle=True)\n",
        "y_train=np.load(\"/content/drive/MyDrive/paper/K-fold code/dataset_npy/Y_train_fold_5.npy\",allow_pickle=True)\n",
        "x_test = np.load(\"/content/drive/MyDrive/paper/K-fold code/dataset_npy/X_test_fold_5.npy\",allow_pickle=True)\n",
        "y_test = np.load(\"/content/drive/MyDrive/paper/K-fold code/dataset_npy/Y_test_fold_5.npy\",allow_pickle=True)\n"
      ],
      "metadata": {
        "id": "Vm_yfSSGuTZe"
      },
      "execution_count": null,
      "outputs": []
    },
    {
      "cell_type": "code",
      "source": [
        "print(x_train.shape ,y_train.shape ,x_test.shape , y_test.shape  )"
      ],
      "metadata": {
        "colab": {
          "base_uri": "https://localhost:8080/"
        },
        "id": "g9cIHfSDFdUb",
        "outputId": "76ad3ef3-79b2-4f59-9194-6fc0b64ec409"
      },
      "execution_count": null,
      "outputs": [
        {
          "output_type": "stream",
          "name": "stdout",
          "text": [
            "(1120, 224, 224, 3) (1120,) (280, 224, 224, 3) (280,)\n"
          ]
        }
      ]
    },
    {
      "cell_type": "code",
      "source": [
        "# Shuffle the data\n",
        "random.seed(1254)\n",
        "combined = list(zip(x_train, y_train))\n",
        "random.shuffle(combined)\n",
        "\n",
        "\n",
        "x_train, y_train = zip(*combined)\n",
        "y_train = np.array(y_train)\n",
        "x_train = np.array(x_train)"
      ],
      "metadata": {
        "id": "7wxK4rU8lpJO"
      },
      "execution_count": null,
      "outputs": []
    },
    {
      "cell_type": "code",
      "source": [
        "# Display class distribution\n",
        "class_label = np.unique(y_train , return_counts=True)\n",
        "print(class_label)\n",
        "\n",
        "class_label[1][0]"
      ],
      "metadata": {
        "id": "xmIzwTKzu8V7",
        "colab": {
          "base_uri": "https://localhost:8080/"
        },
        "outputId": "5a34a2a6-e1f3-4039-8907-3070a0e03d15"
      },
      "execution_count": null,
      "outputs": [
        {
          "output_type": "stream",
          "name": "stdout",
          "text": [
            "(array(['Normal', 'patient'], dtype='<U7'), array([560, 560]))\n"
          ]
        },
        {
          "output_type": "execute_result",
          "data": {
            "text/plain": [
              "560"
            ]
          },
          "metadata": {},
          "execution_count": 70
        }
      ]
    },
    {
      "cell_type": "markdown",
      "source": [
        "# **Preprosesing for build the model...**"
      ],
      "metadata": {
        "id": "FOGExaCQfF0e"
      }
    },
    {
      "cell_type": "code",
      "source": [
        "# Label binarizing\n",
        "lb = preprocessing.LabelBinarizer()\n",
        "\n",
        "# Convert labels to categorical\n",
        "y_train = lb.fit_transform(y_train)\n",
        "y_train = to_categorical(y_train , num_classes=2)\n",
        "\n",
        "y_test = lb.fit_transform(y_test)\n",
        "y_test = to_categorical(y_test , num_classes=2)"
      ],
      "metadata": {
        "id": "rWzKNizsy02G"
      },
      "execution_count": null,
      "outputs": []
    },
    {
      "cell_type": "code",
      "source": [
        "print(x_train.shape ,y_train.shape ,x_test.shape , y_test.shape  )"
      ],
      "metadata": {
        "id": "1ojb_4J2HzRx",
        "colab": {
          "base_uri": "https://localhost:8080/"
        },
        "outputId": "b16e0a51-b215-42b2-ef16-f4f858049de9"
      },
      "execution_count": null,
      "outputs": [
        {
          "output_type": "stream",
          "name": "stdout",
          "text": [
            "(1120, 224, 224, 3) (1120, 2) (280, 224, 224, 3) (280, 2)\n"
          ]
        }
      ]
    },
    {
      "cell_type": "markdown",
      "source": [
        "# **Models**"
      ],
      "metadata": {
        "id": "vj_budWBf6jO"
      }
    },
    {
      "cell_type": "code",
      "source": [
        "# Define model checkpoint for saving best model during training\n",
        "model_save = ModelCheckpoint(\"/content/drive/MyDrive/paper/K-fold code/DenseNet121_kfold5.h5\" , save_best_only=True , verbose=2 , monitor=\"val_accuracy\" , mode=\"max\" )\n",
        ""
      ],
      "metadata": {
        "id": "n1Qp-5RU8PCM"
      },
      "execution_count": null,
      "outputs": []
    },
    {
      "cell_type": "code",
      "source": [
        "# Load pre-trained ResNet50V2 model\n",
        "base_model = DenseNet121(weights=\"imagenet\", include_top=False , input_tensor=Input(shape=(224,224,3)))\n",
        "\n",
        "# Add custom layers on top of the pre-trained model\n",
        "x = base_model.output\n",
        "x = GlobalAveragePooling2D()(x)\n",
        "x = Flatten(name=\"flatting\")(x)\n",
        "x = Dense(128, activation='relu')(x)\n",
        "x= Dropout(0.3)(x)\n",
        "predictions = Dense(2, activation='softmax')(x)\n",
        "# this is the model we will train\n",
        "model = Model(inputs=base_model.input, outputs=predictions)"
      ],
      "metadata": {
        "id": "4KvPa59o76Pn",
        "colab": {
          "base_uri": "https://localhost:8080/"
        },
        "outputId": "e5571185-e384-43e2-9d82-0413fbdaf53a"
      },
      "execution_count": null,
      "outputs": [
        {
          "output_type": "stream",
          "name": "stdout",
          "text": [
            "Downloading data from https://storage.googleapis.com/tensorflow/keras-applications/densenet/densenet121_weights_tf_dim_ordering_tf_kernels_notop.h5\n",
            "29084464/29084464 [==============================] - 2s 0us/step\n"
          ]
        }
      ]
    },
    {
      "cell_type": "markdown",
      "source": [
        "# **preprocessing for fit model and fit**"
      ],
      "metadata": {
        "id": "LSAJgKMc4E07"
      }
    },
    {
      "cell_type": "code",
      "source": [
        "csv_loger = CSVLogger(\"/content/drive/MyDrive/paper/K-fold code/DenseNet121_kfold5.csv\" , append=True)"
      ],
      "metadata": {
        "id": "OoKte9OjgdD3"
      },
      "execution_count": null,
      "outputs": []
    },
    {
      "cell_type": "code",
      "source": [
        "# Define learning rate scheduler function\n",
        "def set_decay(epoch):\n",
        "  initAlpha =0.0008\n",
        "  factor = 0.9\n",
        "  dropEvery = 25\n",
        "  aplpha = initAlpha * (factor**np.floor((1+epoch) / dropEvery))\n",
        "  return float(aplpha)"
      ],
      "metadata": {
        "id": "Xpq8uY64hiR_"
      },
      "execution_count": null,
      "outputs": []
    },
    {
      "cell_type": "code",
      "source": [
        "optim = keras.optimizers.Adam(learning_rate = 0.0008)\n",
        "model.compile(optim , loss=\"categorical_crossentropy\" , metrics=[\"accuracy\"])\n"
      ],
      "metadata": {
        "id": "y3EMVGXXCvUx"
      },
      "execution_count": null,
      "outputs": []
    },
    {
      "cell_type": "code",
      "source": [
        "batch_size = 8\n",
        "TrainStep = len(x_train) / batch_size\n",
        "ValStep = len(x_test) / batch_size"
      ],
      "metadata": {
        "id": "xe03JKPGe0ce"
      },
      "execution_count": null,
      "outputs": []
    },
    {
      "cell_type": "code",
      "source": [
        "x_train=x_train/255.0\n",
        "x_test=x_test/255.0"
      ],
      "metadata": {
        "id": "yF8wYjCvuwJ-"
      },
      "execution_count": null,
      "outputs": []
    },
    {
      "cell_type": "code",
      "source": [
        "# generating with functions\n",
        "datagen = ImageDataGenerator(width_shift_range=0.1, height_shift_range=0.1, horizontal_flip=True)\n",
        "train = datagen.flow(x_train, y_train, batch_size=8)"
      ],
      "metadata": {
        "id": "vMEbD6vPxedH"
      },
      "execution_count": null,
      "outputs": []
    },
    {
      "cell_type": "code",
      "source": [
        "H = model.fit(train , epochs=15, callbacks=[model_save, csv_loger, LearningRateScheduler(set_decay)]\n",
        "                        , validation_data = (x_test, y_test),shuffle=True )"
      ],
      "metadata": {
        "id": "fIAbcxteIees",
        "colab": {
          "base_uri": "https://localhost:8080/"
        },
        "outputId": "d8d83366-cdc6-437f-9e08-72d24094a87b"
      },
      "execution_count": null,
      "outputs": [
        {
          "output_type": "stream",
          "name": "stdout",
          "text": [
            "Epoch 1/15\n",
            "140/140 [==============================] - ETA: 0s - loss: 0.2832 - accuracy: 0.9000\n",
            "Epoch 1: val_accuracy improved from -inf to 0.50000, saving model to /content/drive/MyDrive/paper/K-fold code/DenseNet121_kfold5.h5\n",
            "140/140 [==============================] - 47s 225ms/step - loss: 0.2832 - accuracy: 0.9000 - val_loss: 820.5298 - val_accuracy: 0.5000 - lr: 8.0000e-04\n",
            "Epoch 2/15\n",
            "140/140 [==============================] - ETA: 0s - loss: 0.1761 - accuracy: 0.9438\n",
            "Epoch 2: val_accuracy improved from 0.50000 to 0.79643, saving model to /content/drive/MyDrive/paper/K-fold code/DenseNet121_kfold5.h5\n",
            "140/140 [==============================] - 29s 204ms/step - loss: 0.1761 - accuracy: 0.9438 - val_loss: 2.2002 - val_accuracy: 0.7964 - lr: 8.0000e-04\n",
            "Epoch 3/15\n",
            "140/140 [==============================] - ETA: 0s - loss: 0.1476 - accuracy: 0.9580\n",
            "Epoch 3: val_accuracy improved from 0.79643 to 0.98214, saving model to /content/drive/MyDrive/paper/K-fold code/DenseNet121_kfold5.h5\n",
            "140/140 [==============================] - 30s 212ms/step - loss: 0.1476 - accuracy: 0.9580 - val_loss: 0.0700 - val_accuracy: 0.9821 - lr: 8.0000e-04\n",
            "Epoch 4/15\n",
            "140/140 [==============================] - ETA: 0s - loss: 0.0648 - accuracy: 0.9804\n",
            "Epoch 4: val_accuracy did not improve from 0.98214\n",
            "140/140 [==============================] - 24s 169ms/step - loss: 0.0648 - accuracy: 0.9804 - val_loss: 0.0528 - val_accuracy: 0.9821 - lr: 8.0000e-04\n",
            "Epoch 5/15\n",
            "140/140 [==============================] - ETA: 0s - loss: 0.0315 - accuracy: 0.9920\n",
            "Epoch 5: val_accuracy did not improve from 0.98214\n",
            "140/140 [==============================] - 25s 175ms/step - loss: 0.0315 - accuracy: 0.9920 - val_loss: 2.9057 - val_accuracy: 0.6000 - lr: 8.0000e-04\n",
            "Epoch 6/15\n",
            "140/140 [==============================] - ETA: 0s - loss: 0.1144 - accuracy: 0.9634\n",
            "Epoch 6: val_accuracy improved from 0.98214 to 0.98929, saving model to /content/drive/MyDrive/paper/K-fold code/DenseNet121_kfold5.h5\n",
            "140/140 [==============================] - 28s 198ms/step - loss: 0.1144 - accuracy: 0.9634 - val_loss: 0.0312 - val_accuracy: 0.9893 - lr: 8.0000e-04\n",
            "Epoch 7/15\n",
            "140/140 [==============================] - ETA: 0s - loss: 0.0416 - accuracy: 0.9848\n",
            "Epoch 7: val_accuracy did not improve from 0.98929\n",
            "140/140 [==============================] - 22s 155ms/step - loss: 0.0416 - accuracy: 0.9848 - val_loss: 0.1036 - val_accuracy: 0.9786 - lr: 8.0000e-04\n",
            "Epoch 8/15\n",
            "140/140 [==============================] - ETA: 0s - loss: 0.0318 - accuracy: 0.9884\n",
            "Epoch 8: val_accuracy did not improve from 0.98929\n",
            "140/140 [==============================] - 27s 194ms/step - loss: 0.0318 - accuracy: 0.9884 - val_loss: 0.2666 - val_accuracy: 0.9214 - lr: 8.0000e-04\n",
            "Epoch 9/15\n",
            "140/140 [==============================] - ETA: 0s - loss: 0.0427 - accuracy: 0.9884\n",
            "Epoch 9: val_accuracy did not improve from 0.98929\n",
            "140/140 [==============================] - 22s 155ms/step - loss: 0.0427 - accuracy: 0.9884 - val_loss: 5.0699 - val_accuracy: 0.5107 - lr: 8.0000e-04\n",
            "Epoch 10/15\n",
            "140/140 [==============================] - ETA: 0s - loss: 0.0494 - accuracy: 0.9857\n",
            "Epoch 10: val_accuracy did not improve from 0.98929\n",
            "140/140 [==============================] - 22s 154ms/step - loss: 0.0494 - accuracy: 0.9857 - val_loss: 0.4279 - val_accuracy: 0.7786 - lr: 8.0000e-04\n",
            "Epoch 11/15\n",
            "140/140 [==============================] - ETA: 0s - loss: 0.1124 - accuracy: 0.9759\n",
            "Epoch 11: val_accuracy did not improve from 0.98929\n",
            "140/140 [==============================] - 24s 171ms/step - loss: 0.1124 - accuracy: 0.9759 - val_loss: 0.3392 - val_accuracy: 0.9250 - lr: 8.0000e-04\n",
            "Epoch 12/15\n",
            "140/140 [==============================] - ETA: 0s - loss: 0.0624 - accuracy: 0.9848\n",
            "Epoch 12: val_accuracy did not improve from 0.98929\n",
            "140/140 [==============================] - 25s 179ms/step - loss: 0.0624 - accuracy: 0.9848 - val_loss: 0.1747 - val_accuracy: 0.9214 - lr: 8.0000e-04\n",
            "Epoch 13/15\n",
            "140/140 [==============================] - ETA: 0s - loss: 0.1196 - accuracy: 0.9563\n",
            "Epoch 13: val_accuracy did not improve from 0.98929\n",
            "140/140 [==============================] - 22s 160ms/step - loss: 0.1196 - accuracy: 0.9563 - val_loss: 5.5860 - val_accuracy: 0.5071 - lr: 8.0000e-04\n",
            "Epoch 14/15\n",
            "140/140 [==============================] - ETA: 0s - loss: 0.0791 - accuracy: 0.9777\n",
            "Epoch 14: val_accuracy improved from 0.98929 to 0.99286, saving model to /content/drive/MyDrive/paper/K-fold code/DenseNet121_kfold5.h5\n",
            "140/140 [==============================] - 28s 199ms/step - loss: 0.0791 - accuracy: 0.9777 - val_loss: 0.0411 - val_accuracy: 0.9929 - lr: 8.0000e-04\n",
            "Epoch 15/15\n",
            "140/140 [==============================] - ETA: 0s - loss: 0.0523 - accuracy: 0.9821\n",
            "Epoch 15: val_accuracy did not improve from 0.99286\n",
            "140/140 [==============================] - 25s 178ms/step - loss: 0.0523 - accuracy: 0.9821 - val_loss: 0.0619 - val_accuracy: 0.9857 - lr: 8.0000e-04\n"
          ]
        }
      ]
    },
    {
      "cell_type": "code",
      "source": [
        "plt.figure(figsize=(30,5))\n",
        "plt.subplot(121)\n",
        "plt.plot(H.history['accuracy'])\n",
        "plt.plot(H.history['val_accuracy'])\n",
        "plt.title(\"Model accuracy\")\n",
        "plt.ylabel(\"accuracy\")\n",
        "plt.xlabel(\"Epoch\")\n",
        "plt.legend(['tarin', \"validation\"] , loc=\"upper left\")\n",
        "plt.subplot(122)\n",
        "plt.plot(H.history['loss'])\n",
        "plt.plot(H.history['val_loss'])\n",
        "plt.title(\"Model loss\")\n",
        "plt.ylabel(\"loss\")\n",
        "plt.xlabel(\"Epoch\")\n",
        "plt.legend(['tarin', \"validation\"] , loc=\"upper left\")\n",
        "plt.show()"
      ],
      "metadata": {
        "id": "3tO1ERtKIeid",
        "colab": {
          "base_uri": "https://localhost:8080/",
          "height": 261
        },
        "outputId": "21b0a7b5-a421-4402-f39c-744d05a390b9"
      },
      "execution_count": null,
      "outputs": [
        {
          "output_type": "display_data",
          "data": {
            "text/plain": [
              "<Figure size 3000x500 with 2 Axes>"
            ],
            "image/png": "[encoded data removed]"
          },
          "metadata": {}
        }
      ]
    },
    {
      "cell_type": "code",
      "source": [
        "model = tf.keras.models.load_model(\"/content/drive/MyDrive/paper/K-fold code/DenseNet121_kfold5.h5\")"
      ],
      "metadata": {
        "id": "-Bg96OpIJZcp"
      },
      "execution_count": null,
      "outputs": []
    },
    {
      "cell_type": "code",
      "source": [
        "#train\n",
        "model.evaluate(x_train,y_train)"
      ],
      "metadata": {
        "id": "-VnhkQP0Iemd",
        "colab": {
          "base_uri": "https://localhost:8080/"
        },
        "outputId": "01a6cbaf-e50d-4149-e271-2a6443c074b9"
      },
      "execution_count": null,
      "outputs": [
        {
          "output_type": "stream",
          "name": "stdout",
          "text": [
            "35/35 [==============================] - 5s 95ms/step - loss: 0.0027 - accuracy: 1.0000\n"
          ]
        },
        {
          "output_type": "execute_result",
          "data": {
            "text/plain": [
              "[0.0027227916289120913, 1.0]"
            ]
          },
          "metadata": {},
          "execution_count": 84
        }
      ]
    },
    {
      "cell_type": "code",
      "source": [
        "#test\n",
        "model.evaluate(x_test, y_test)"
      ],
      "metadata": {
        "id": "nOOYbNGJIepx",
        "colab": {
          "base_uri": "https://localhost:8080/"
        },
        "outputId": "1a9f0bab-f4b2-4000-f066-2bb61c30f7d4"
      },
      "execution_count": null,
      "outputs": [
        {
          "output_type": "stream",
          "name": "stdout",
          "text": [
            "9/9 [==============================] - 3s 102ms/step - loss: 0.0411 - accuracy: 0.9929\n"
          ]
        },
        {
          "output_type": "execute_result",
          "data": {
            "text/plain": [
              "[0.04107479751110077, 0.9928571581840515]"
            ]
          },
          "metadata": {},
          "execution_count": 85
        }
      ]
    },
    {
      "cell_type": "code",
      "source": [
        "prediction=model.predict(x_test)"
      ],
      "metadata": {
        "id": "wZ9r-C8nJ004",
        "colab": {
          "base_uri": "https://localhost:8080/"
        },
        "outputId": "d8fb10b3-4a27-45f3-e48d-a3cf6897a41a"
      },
      "execution_count": null,
      "outputs": [
        {
          "output_type": "stream",
          "name": "stdout",
          "text": [
            "9/9 [==============================] - 4s 106ms/step\n"
          ]
        }
      ]
    },
    {
      "cell_type": "code",
      "source": [
        "prediction=np.argmax(prediction,-1)\n",
        "y_test=np.argmax(y_test,-1)"
      ],
      "metadata": {
        "id": "QwNgKI9AK2CL"
      },
      "execution_count": null,
      "outputs": []
    },
    {
      "cell_type": "code",
      "source": [
        "precision = precision_score(y_test , prediction ,  average=\"weighted\")\n",
        "print(precision*100)"
      ],
      "metadata": {
        "id": "5S48jvnyK7pL",
        "colab": {
          "base_uri": "https://localhost:8080/"
        },
        "outputId": "26e44bee-b606-4a6e-ac86-e7556334fbdf"
      },
      "execution_count": null,
      "outputs": [
        {
          "output_type": "stream",
          "name": "stdout",
          "text": [
            "99.29577464788731\n"
          ]
        }
      ]
    },
    {
      "cell_type": "code",
      "source": [
        "recal = recall_score(y_test , prediction ,  average=\"weighted\")\n",
        "print(recal*100)"
      ],
      "metadata": {
        "id": "VyaK2iMcK9F4",
        "colab": {
          "base_uri": "https://localhost:8080/"
        },
        "outputId": "97db1b22-eea0-438b-8567-767a7f39355e"
      },
      "execution_count": null,
      "outputs": [
        {
          "output_type": "stream",
          "name": "stdout",
          "text": [
            "99.28571428571429\n"
          ]
        }
      ]
    },
    {
      "cell_type": "code",
      "source": [
        "f1 = f1_score(y_test , prediction ,  average=\"weighted\")\n",
        "print(f1*100)"
      ],
      "metadata": {
        "id": "79DA0tWeK_aB",
        "colab": {
          "base_uri": "https://localhost:8080/"
        },
        "outputId": "10a307ab-38a8-46ee-88c2-5293f7f1b27b"
      },
      "execution_count": null,
      "outputs": [
        {
          "output_type": "stream",
          "name": "stdout",
          "text": [
            "99.28567784070614\n"
          ]
        }
      ]
    },
    {
      "cell_type": "code",
      "source": [
        "\n",
        "print(classification_report(y_test , prediction))"
      ],
      "metadata": {
        "id": "_DeTjEp5LBju",
        "colab": {
          "base_uri": "https://localhost:8080/"
        },
        "outputId": "93d4a81f-a3a1-4f95-9627-284260ac4488"
      },
      "execution_count": null,
      "outputs": [
        {
          "output_type": "stream",
          "name": "stdout",
          "text": [
            "              precision    recall  f1-score   support\n",
            "\n",
            "           0       0.99      1.00      0.99       140\n",
            "           1       1.00      0.99      0.99       140\n",
            "\n",
            "    accuracy                           0.99       280\n",
            "   macro avg       0.99      0.99      0.99       280\n",
            "weighted avg       0.99      0.99      0.99       280\n",
            "\n"
          ]
        }
      ]
    },
    {
      "cell_type": "code",
      "source": [
        "confusion_matrix(y_test , prediction)"
      ],
      "metadata": {
        "id": "33RGmDHRLD_0",
        "colab": {
          "base_uri": "https://localhost:8080/"
        },
        "outputId": "a5f3672c-52af-4b3f-a8d1-cff364eb64f0"
      },
      "execution_count": null,
      "outputs": [
        {
          "output_type": "execute_result",
          "data": {
            "text/plain": [
              "array([[140,   0],\n",
              "       [  2, 138]])"
            ]
          },
          "metadata": {},
          "execution_count": 92
        }
      ]
    },
    {
      "cell_type": "code",
      "source": [
        "cm=confusion_matrix(y_test , prediction)\n",
        "target_names = [\"normal\" , \"pation\"]\n",
        "disp = ConfusionMatrixDisplay(confusion_matrix=cm,  display_labels=target_names)\n",
        "disp.plot(cmap=plt.cm.Blues)\n",
        "plt.xlabel(\"Predicted labels\")\n",
        "plt.title('Confusion matrix ')\n",
        "plt.ylabel(\"True labels\")\n",
        "plt.show()"
      ],
      "metadata": {
        "id": "ZSceLgp9LzNi",
        "colab": {
          "base_uri": "https://localhost:8080/",
          "height": 472
        },
        "outputId": "97e97636-ca47-4117-bd3d-9aaba4a5649b"
      },
      "execution_count": null,
      "outputs": [
        {
          "output_type": "display_data",
          "data": {
            "text/plain": [
              "<Figure size 640x480 with 2 Axes>"
            ],
            "image/png": "[encoded data removed]"
          },
          "metadata": {}
        }
      ]
    },
    {
      "cell_type": "code",
      "source": [],
      "metadata": {
        "id": "tJem3GVq-GhE"
      },
      "execution_count": null,
      "outputs": []
    }
  ]
}
