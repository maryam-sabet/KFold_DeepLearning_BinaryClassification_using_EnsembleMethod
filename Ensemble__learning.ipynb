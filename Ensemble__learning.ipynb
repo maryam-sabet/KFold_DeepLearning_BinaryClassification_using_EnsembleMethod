{
  "nbformat": 4,
  "nbformat_minor": 0,
  "metadata": {
    "colab": {
      "provenance": [],
      "mount_file_id": "1OObgh8rnXTn_KfC79paDNJJa69hsmOVv",
      "authorship_tag": "ABX9TyPGQkzUwaHpk2TGq4DfcKcv",
      "include_colab_link": true
    },
    "kernelspec": {
      "name": "python3",
      "display_name": "Python 3"
    },
    "language_info": {
      "name": "python"
    },
    "gpuClass": "standard",
    "accelerator": "GPU"
  },
  "cells": [
    {
      "cell_type": "markdown",
      "metadata": {
        "id": "view-in-github",
        "colab_type": "text"
      },
      "source": [
        "<a href=\"https://colab.research.google.com/github/maryam-sabet/KFold_DeepLearning_BinaryClassification_using_EnsembleMethod/blob/main/Ensemble__learning.ipynb\" target=\"_parent\"><img src=\"https://colab.research.google.com/assets/colab-badge.svg\" alt=\"Open In Colab\"/></a>"
      ]
    },
    {
      "cell_type": "markdown",
      "source": [
        "# **Change tensorflow version**"
      ],
      "metadata": {
        "id": "Ksiytk9lpNlA"
      }
    },
    {
      "cell_type": "code",
      "source": [
        "# !pip install tensorflow==2.9.1"
      ],
      "metadata": {
        "id": "FXU5SP3ApQKW"
      },
      "execution_count": null,
      "outputs": []
    },
    {
      "cell_type": "markdown",
      "source": [
        "# **Libraries**"
      ],
      "metadata": {
        "id": "hZtaL0SxpZfv"
      }
    },
    {
      "cell_type": "code",
      "source": [
        "import glob\n",
        "import cv2\n",
        "from google.colab.patches import cv2_imshow\n",
        "import matplotlib.pyplot as plt\n",
        "import random\n",
        "import numpy as np\n",
        "import keras\n",
        "import tensorflow as tf\n",
        "from sklearn.model_selection import train_test_split\n",
        "from sklearn import preprocessing\n",
        "from keras.utils import to_categorical\n",
        "from tensorflow import keras\n",
        "from tensorflow.keras.utils import plot_model\n",
        "from tensorflow.keras.preprocessing.image import ImageDataGenerator\n",
        "from tensorflow.keras.applications import VGG16,DenseNet169,DenseNet121,NASNetMobile,EfficientNetB0,EfficientNetV2B0,ResNet50V2\n",
        "from tensorflow.keras.models import Model\n",
        "from sklearn.model_selection import KFold\n",
        "from tensorflow.keras import layers\n",
        "from tensorflow.keras.layers import Dense, GlobalAveragePooling2D, Input,Flatten,Dropout\n",
        "from tensorflow.keras.callbacks import ModelCheckpoint , CSVLogger , LearningRateScheduler\n",
        "from sklearn.metrics import precision_score , recall_score , f1_score , confusion_matrix , ConfusionMatrixDisplay ,classification_report\n",
        "from sklearn.metrics import accuracy_score"
      ],
      "metadata": {
        "id": "sy-pwaD4pdjv"
      },
      "execution_count": null,
      "outputs": []
    },
    {
      "cell_type": "code",
      "source": [
        "tf.__version__"
      ],
      "metadata": {
        "id": "LGyGgja4-flU",
        "colab": {
          "base_uri": "https://localhost:8080/",
          "height": 35
        },
        "outputId": "59d0968b-fbde-44b0-c6ca-90a7529c89c5"
      },
      "execution_count": null,
      "outputs": [
        {
          "output_type": "execute_result",
          "data": {
            "text/plain": [
              "'2.12.0'"
            ],
            "application/vnd.google.colaboratory.intrinsic+json": {
              "type": "string"
            }
          },
          "metadata": {},
          "execution_count": 2
        }
      ]
    },
    {
      "cell_type": "markdown",
      "source": [
        "# **Loading data**"
      ],
      "metadata": {
        "id": "IZqVwUgYeaH3"
      }
    },
    {
      "cell_type": "code",
      "source": [
        "data = np.load(\"/content/drive/MyDrive/paper/data.npy\",allow_pickle=True)\n",
        "label = np.load(\"/content/drive/MyDrive/paper/label.npy\",allow_pickle=True)\n"
      ],
      "metadata": {
        "id": "Vm_yfSSGuTZe"
      },
      "execution_count": null,
      "outputs": []
    },
    {
      "cell_type": "code",
      "source": [
        "random.seed(1254)\n",
        "combined = list(zip(data, label))\n",
        "random.shuffle(combined)\n",
        "\n",
        "\n",
        "data, label = zip(*combined)\n",
        "label = np.array(label)\n",
        "data = np.array(data)"
      ],
      "metadata": {
        "id": "1KU-wBzJvP06",
        "colab": {
          "base_uri": "https://localhost:8080/"
        },
        "outputId": "1bd9967d-965a-4c94-a48d-43b94b8f04e3"
      },
      "execution_count": null,
      "outputs": [
        {
          "output_type": "stream",
          "name": "stderr",
          "text": [
            "<ipython-input-4-66914fa876a0>:8: VisibleDeprecationWarning: Creating an ndarray from ragged nested sequences (which is a list-or-tuple of lists-or-tuples-or ndarrays with different lengths or shapes) is deprecated. If you meant to do this, you must specify 'dtype=object' when creating the ndarray.\n",
            "  data = np.array(data)\n"
          ]
        }
      ]
    },
    {
      "cell_type": "code",
      "source": [
        "# Label binarizing\n",
        "lb = preprocessing.LabelBinarizer()\n",
        "\n",
        "labels = lb.fit_transform(label)\n",
        "label_category = to_categorical(labels , num_classes=2)"
      ],
      "metadata": {
        "id": "tnZsI662vSwl"
      },
      "execution_count": null,
      "outputs": []
    },
    {
      "cell_type": "code",
      "source": [
        "#resize input images\n",
        "Data =list()\n",
        "for item in data:\n",
        "  img = cv2.resize(item , (224,224) , cv2.INTER_NEAREST )\n",
        "  Data.append(img)\n",
        "\n",
        "Data = np.array(Data)"
      ],
      "metadata": {
        "id": "PEQhyrf3vYQu"
      },
      "execution_count": null,
      "outputs": []
    },
    {
      "cell_type": "code",
      "source": [
        "X_train, X_test, y_train, y_test = train_test_split(Data, label_category, test_size=0.20, random_state=42)"
      ],
      "metadata": {
        "id": "RJ65cqDUvb7n"
      },
      "execution_count": null,
      "outputs": []
    },
    {
      "cell_type": "code",
      "source": [
        "print(X_train.shape ,y_train.shape ,X_test.shape , y_test.shape  )"
      ],
      "metadata": {
        "colab": {
          "base_uri": "https://localhost:8080/"
        },
        "id": "g9cIHfSDFdUb",
        "outputId": "51174450-0758-4bec-cf8c-7f9b787cc5cb"
      },
      "execution_count": null,
      "outputs": [
        {
          "output_type": "stream",
          "name": "stdout",
          "text": [
            "(1120, 224, 224, 3) (1120, 2) (280, 224, 224, 3) (280, 2)\n"
          ]
        }
      ]
    },
    {
      "cell_type": "markdown",
      "source": [
        "# **Models**"
      ],
      "metadata": {
        "id": "vj_budWBf6jO"
      }
    },
    {
      "cell_type": "markdown",
      "source": [
        "# **preprocessing for fit model and fit**"
      ],
      "metadata": {
        "id": "LSAJgKMc4E07"
      }
    },
    {
      "cell_type": "code",
      "source": [
        "x_train=X_train/255.0\n",
        "x_test=X_test/255.0"
      ],
      "metadata": {
        "id": "yF8wYjCvuwJ-"
      },
      "execution_count": null,
      "outputs": []
    },
    {
      "cell_type": "code",
      "source": [
        "# **Models and Ensembling**\n",
        "\n",
        "# Load pre-trained models\n",
        "\n",
        "model_xception = tf.keras.models.load_model(\"/content/drive/MyDrive/paper/ensemble-learning/Xception.h5\")\n",
        "model_mobilenet = tf.keras.models.load_model(\"/content/drive/MyDrive/paper/ensemble-learning/MobileNet.h5\")\n",
        "model_densenet = tf.keras.models.load_model(\"/content/drive/MyDrive/paper/ensemble-learning/DenseNet121.h5\")\n",
        "model_EfficientNetV2B0 = tf.keras.models.load_model(\"/content/drive/MyDrive/paper/ensemble-learning/EfficientNetV2B0.h5\")\n",
        "model_MobileNetV2 = tf.keras.models.load_model(\"/content/drive/MyDrive/paper/ensemble-learning/MobileNetV2.h5\")"
      ],
      "metadata": {
        "id": "-Bg96OpIJZcp"
      },
      "execution_count": null,
      "outputs": []
    },
    {
      "cell_type": "code",
      "source": [
        "# Make predictions using each model\n",
        "prediction_xception = model_xception.predict(x_test)\n",
        "prediction__mobilenet = model_mobilenet.predict(x_test)\n",
        "prediction__densenet = model_densenet.predict(x_test)\n",
        "prediction__EfficientNetV2B0 = model_EfficientNetV2B0.predict(x_test)\n",
        "prediction__MobileNetV2 = model_MobileNetV2.predict(x_test)\n",
        "\n"
      ],
      "metadata": {
        "id": "wZ9r-C8nJ004",
        "colab": {
          "base_uri": "https://localhost:8080/"
        },
        "outputId": "4b346899-4986-4f35-ff28-b4b24dc84b7e"
      },
      "execution_count": null,
      "outputs": [
        {
          "output_type": "stream",
          "name": "stdout",
          "text": [
            "9/9 [==============================] - 14s 292ms/step\n",
            "9/9 [==============================] - 1s 67ms/step\n",
            "9/9 [==============================] - 7s 291ms/step\n",
            "9/9 [==============================] - 4s 137ms/step\n",
            "9/9 [==============================] - 3s 106ms/step\n"
          ]
        }
      ]
    },
    {
      "cell_type": "code",
      "source": [
        "# Convert predictions to labels\n",
        "prediction_xception=np.argmax(prediction_xception,-1)\n",
        "prediction__mobilenet=np.argmax(prediction__mobilenet,-1)\n",
        "prediction__densenet=np.argmax(prediction__densenet,-1)\n",
        "prediction__EfficientNetV2B0 = np.argmax(prediction__EfficientNetV2B0,-1)\n",
        "prediction__MobileNetV2 = np.argmax(prediction__MobileNetV2,-1)\n",
        "\n",
        "y_test=np.argmax(y_test,-1)"
      ],
      "metadata": {
        "id": "QwNgKI9AK2CL"
      },
      "execution_count": null,
      "outputs": []
    },
    {
      "cell_type": "code",
      "source": [
        "# Ensembling the predictions\n",
        "\n",
        "prediction = []\n",
        "\n",
        "for pred in range(len(prediction_xception)):   # pred==1\n",
        "    class_0=[]\n",
        "    class_1=[]\n",
        "\n",
        "    A = prediction_xception[pred]\n",
        "    B = prediction__mobilenet[pred]\n",
        "    c = prediction__densenet[pred]\n",
        "    D = prediction__EfficientNetV2B0[pred]\n",
        "    E = prediction__MobileNetV2[pred]\n",
        "\n",
        "    if A==0:\n",
        "      class_0.append(0)\n",
        "    if B==0:\n",
        "       class_0.append(0)\n",
        "    if c==0:\n",
        "       class_0.append(0)\n",
        "    if D==0:\n",
        "       class_0.append(0)\n",
        "    if E==0:\n",
        "       class_0.append(0)\n",
        "\n",
        "    if A==1:\n",
        "      class_1.append(1)\n",
        "    if B==1:\n",
        "       class_1.append(1)\n",
        "    if c==1:\n",
        "       class_1.append(1)\n",
        "    if D==1:\n",
        "       class_1.append(1)\n",
        "    if E==1:\n",
        "       class_1.append(1)\n",
        "\n",
        "    if len(class_0)>len(class_1):\n",
        "      prediction.append(0)\n",
        "    else:\n",
        "        prediction.append(1)\n",
        ""
      ],
      "metadata": {
        "id": "5X2g4ZKU21vV"
      },
      "execution_count": null,
      "outputs": []
    },
    {
      "cell_type": "code",
      "source": [
        "# Calculate and display accuracy and other metrics\n",
        "accuracy=accuracy_score(y_test, prediction)\n",
        "print(accuracy*100)"
      ],
      "metadata": {
        "colab": {
          "base_uri": "https://localhost:8080/"
        },
        "id": "Uh81Hx8N5UsD",
        "outputId": "0b048799-2e0b-4f22-f040-d9b9acf79d7b"
      },
      "execution_count": null,
      "outputs": [
        {
          "output_type": "stream",
          "name": "stdout",
          "text": [
            "100.0\n"
          ]
        }
      ]
    },
    {
      "cell_type": "code",
      "source": [
        "precision = precision_score(y_test , prediction ,  average=\"weighted\")\n",
        "print(precision*100)"
      ],
      "metadata": {
        "id": "5S48jvnyK7pL",
        "colab": {
          "base_uri": "https://localhost:8080/"
        },
        "outputId": "ba304ca5-a5f7-495d-b45e-b17d8ba4bd71"
      },
      "execution_count": null,
      "outputs": [
        {
          "output_type": "stream",
          "name": "stdout",
          "text": [
            "100.0\n"
          ]
        }
      ]
    },
    {
      "cell_type": "code",
      "source": [
        "recal = recall_score(y_test , prediction ,  average=\"weighted\")\n",
        "print(recal*100)"
      ],
      "metadata": {
        "id": "VyaK2iMcK9F4",
        "colab": {
          "base_uri": "https://localhost:8080/"
        },
        "outputId": "b67a9b3e-d115-4908-f038-0ce9bc613220"
      },
      "execution_count": null,
      "outputs": [
        {
          "output_type": "stream",
          "name": "stdout",
          "text": [
            "100.0\n"
          ]
        }
      ]
    },
    {
      "cell_type": "code",
      "source": [
        "f1 = f1_score(y_test , prediction ,  average=\"weighted\")\n",
        "print(f1*100)"
      ],
      "metadata": {
        "id": "79DA0tWeK_aB",
        "colab": {
          "base_uri": "https://localhost:8080/"
        },
        "outputId": "5b95b5b8-8263-4bfb-e237-8ed255c86ba4"
      },
      "execution_count": null,
      "outputs": [
        {
          "output_type": "stream",
          "name": "stdout",
          "text": [
            "100.0\n"
          ]
        }
      ]
    },
    {
      "cell_type": "code",
      "source": [
        "print(classification_report(y_test , prediction))"
      ],
      "metadata": {
        "id": "_DeTjEp5LBju",
        "colab": {
          "base_uri": "https://localhost:8080/"
        },
        "outputId": "01f3a92f-abe1-49da-c8e0-b81fc40cb345"
      },
      "execution_count": null,
      "outputs": [
        {
          "output_type": "stream",
          "name": "stdout",
          "text": [
            "              precision    recall  f1-score   support\n",
            "\n",
            "           0       1.00      1.00      1.00       137\n",
            "           1       1.00      1.00      1.00       143\n",
            "\n",
            "    accuracy                           1.00       280\n",
            "   macro avg       1.00      1.00      1.00       280\n",
            "weighted avg       1.00      1.00      1.00       280\n",
            "\n"
          ]
        }
      ]
    },
    {
      "cell_type": "code",
      "source": [
        "confusion_matrix(y_test , prediction)"
      ],
      "metadata": {
        "id": "33RGmDHRLD_0",
        "colab": {
          "base_uri": "https://localhost:8080/"
        },
        "outputId": "29b99dbf-6e36-4119-d659-6220a76149bd"
      },
      "execution_count": null,
      "outputs": [
        {
          "output_type": "execute_result",
          "data": {
            "text/plain": [
              "array([[137,   0],\n",
              "       [  0, 143]])"
            ]
          },
          "metadata": {},
          "execution_count": 19
        }
      ]
    },
    {
      "cell_type": "code",
      "source": [
        "cm=confusion_matrix(y_test , prediction)\n",
        "target_names = [\"normal\" , \"pation\"]\n",
        "disp = ConfusionMatrixDisplay(confusion_matrix=cm,  display_labels=target_names)\n",
        "disp.plot(cmap=plt.cm.Blues)\n",
        "plt.xlabel(\"Predicted labels\")\n",
        "plt.title('Confusion matrix ')\n",
        "plt.ylabel(\"True labels\")\n",
        "plt.show()"
      ],
      "metadata": {
        "id": "ZSceLgp9LzNi",
        "colab": {
          "base_uri": "https://localhost:8080/",
          "height": 472
        },
        "outputId": "e5ea038a-1843-4000-b95b-420ad367e4c6"
      },
      "execution_count": null,
      "outputs": [
        {
          "output_type": "display_data",
          "data": {
            "text/plain": [
              "<Figure size 640x480 with 2 Axes>"
            ],
            "image/png": "[encoded data removed]"
          },
          "metadata": {}
        }
      ]
    }
  ]
}