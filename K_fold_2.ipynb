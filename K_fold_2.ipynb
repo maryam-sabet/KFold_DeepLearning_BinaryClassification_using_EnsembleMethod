{
  "cells": [
    {
      "cell_type": "markdown",
      "metadata": {
        "id": "view-in-github",
        "colab_type": "text"
      },
      "source": [
        "<a href=\"https://colab.research.google.com/github/maryam-sabet/KFold_DeepLearning_BinaryClassification_using_EnsembleMethod/blob/main/K_fold_2.ipynb\" target=\"_parent\"><img src=\"https://colab.research.google.com/assets/colab-badge.svg\" alt=\"Open In Colab\"/></a>"
      ]
    },
    {
      "cell_type": "markdown",
      "metadata": {
        "id": "Ksiytk9lpNlA"
      },
      "source": [
        "# **Change tensorflow version**"
      ]
    },
    {
      "cell_type": "code",
      "execution_count": null,
      "metadata": {
        "id": "FXU5SP3ApQKW"
      },
      "outputs": [],
      "source": [
        "!pip install tensorflow==2.9.1"
      ]
    },
    {
      "cell_type": "markdown",
      "metadata": {
        "id": "hZtaL0SxpZfv"
      },
      "source": [
        "# **Libraries**"
      ]
    },
    {
      "cell_type": "code",
      "execution_count": null,
      "metadata": {
        "id": "sy-pwaD4pdjv"
      },
      "outputs": [],
      "source": [
        "import glob\n",
        "import cv2\n",
        "from google.colab.patches import cv2_imshow\n",
        "import matplotlib.pyplot as plt\n",
        "import random\n",
        "import numpy as np\n",
        "import keras\n",
        "import tensorflow as tf\n",
        "from sklearn.model_selection import train_test_split\n",
        "from sklearn import preprocessing\n",
        "from keras.utils import to_categorical\n",
        "from tensorflow import keras\n",
        "from tensorflow.keras.utils import plot_model\n",
        "from tensorflow.keras.preprocessing.image import ImageDataGenerator\n",
        "from tensorflow.keras.applications import VGG16,DenseNet169,Xception,MobileNet,MobileNetV2,NASNetMobile,EfficientNetB0,DenseNet121,EfficientNetV2B0,ResNet50V2\n",
        "from tensorflow.keras.models import Model\n",
        "from sklearn.model_selection import KFold\n",
        "from tensorflow.keras import layers\n",
        "from tensorflow.keras.layers import Dense, GlobalAveragePooling2D, Input,Flatten,Dropout\n",
        "from tensorflow.keras.callbacks import ModelCheckpoint , CSVLogger , LearningRateScheduler\n",
        "from sklearn.metrics import precision_score , recall_score , f1_score , confusion_matrix , ConfusionMatrixDisplay ,classification_report\n"
      ]
    },
    {
      "cell_type": "code",
      "execution_count": null,
      "metadata": {
        "colab": {
          "base_uri": "https://localhost:8080/",
          "height": 36
        },
        "id": "LGyGgja4-flU",
        "outputId": "30ca942a-8bcc-46b4-cd5d-8c0b711e8045"
      },
      "outputs": [
        {
          "output_type": "execute_result",
          "data": {
            "text/plain": [
              "'2.9.1'"
            ],
            "application/vnd.google.colaboratory.intrinsic+json": {
              "type": "string"
            }
          },
          "metadata": {},
          "execution_count": 116
        }
      ],
      "source": [
        "tf.__version__"
      ]
    },
    {
      "cell_type": "markdown",
      "metadata": {
        "id": "IZqVwUgYeaH3"
      },
      "source": [
        "# **Loading data**"
      ]
    },
    {
      "cell_type": "code",
      "execution_count": null,
      "metadata": {
        "id": "Vm_yfSSGuTZe"
      },
      "outputs": [],
      "source": [
        "x_train =np.load(\"/content/drive/MyDrive/paper/K-fold code/dataset_npy/X_train_fold_2.npy\",allow_pickle=True)\n",
        "y_train= np.load(\"/content/drive/MyDrive/paper/K-fold code/dataset_npy/Y_train_fold_2.npy\",allow_pickle=True)\n",
        "x_test = np.load(\"/content/drive/MyDrive/paper/K-fold code/dataset_npy/X_test_fold_2.npy\",allow_pickle=True)\n",
        "y_test = np.load(\"/content/drive/MyDrive/paper/K-fold code/dataset_npy/Y_test_fold_2.npy\",allow_pickle=True)\n"
      ]
    },
    {
      "cell_type": "code",
      "execution_count": null,
      "metadata": {
        "colab": {
          "base_uri": "https://localhost:8080/"
        },
        "id": "g9cIHfSDFdUb",
        "outputId": "0c280091-5b66-4ff6-9005-0c7a4c13ace5"
      },
      "outputs": [
        {
          "output_type": "stream",
          "name": "stdout",
          "text": [
            "(1120, 224, 224, 3) (1120,) (280, 224, 224, 3) (280,)\n"
          ]
        }
      ],
      "source": [
        "print(x_train.shape ,y_train.shape ,x_test.shape , y_test.shape  )"
      ]
    },
    {
      "cell_type": "code",
      "execution_count": null,
      "metadata": {
        "id": "7wxK4rU8lpJO"
      },
      "outputs": [],
      "source": [
        "# Shuffle the data\n",
        "random.seed(1254)\n",
        "combined = list(zip(x_train, y_train))\n",
        "random.shuffle(combined)\n",
        "\n",
        "\n",
        "x_train, y_train = zip(*combined)\n",
        "y_train = np.array(y_train)\n",
        "x_train = np.array(x_train)"
      ]
    },
    {
      "cell_type": "code",
      "execution_count": null,
      "metadata": {
        "colab": {
          "base_uri": "https://localhost:8080/"
        },
        "id": "xmIzwTKzu8V7",
        "outputId": "f5df55e0-17e8-42e8-a31d-21a91d628e3b"
      },
      "outputs": [
        {
          "output_type": "stream",
          "name": "stdout",
          "text": [
            "(array(['Normal', 'patient'], dtype='<U7'), array([554, 566]))\n"
          ]
        },
        {
          "output_type": "execute_result",
          "data": {
            "text/plain": [
              "554"
            ]
          },
          "metadata": {},
          "execution_count": 120
        }
      ],
      "source": [
        "# Display class distribution\n",
        "class_label = np.unique(y_train , return_counts=True)\n",
        "print(class_label)\n",
        "\n",
        "class_label[1][0]"
      ]
    },
    {
      "cell_type": "markdown",
      "metadata": {
        "id": "FOGExaCQfF0e"
      },
      "source": [
        "# **Preprosesing for build the model...**"
      ]
    },
    {
      "cell_type": "code",
      "execution_count": null,
      "metadata": {
        "id": "rWzKNizsy02G"
      },
      "outputs": [],
      "source": [
        "# Label binarizing\n",
        "lb = preprocessing.LabelBinarizer()\n",
        "\n",
        "# Convert labels to categorical\n",
        "y_train = lb.fit_transform(y_train)\n",
        "y_train = to_categorical(y_train , num_classes=2)\n",
        "\n",
        "y_test = lb.fit_transform(y_test)\n",
        "y_test = to_categorical(y_test , num_classes=2)"
      ]
    },
    {
      "cell_type": "code",
      "execution_count": null,
      "metadata": {
        "colab": {
          "base_uri": "https://localhost:8080/"
        },
        "id": "1ojb_4J2HzRx",
        "outputId": "f64afa6f-6bab-4d07-a55c-75b7d641d8d3"
      },
      "outputs": [
        {
          "output_type": "stream",
          "name": "stdout",
          "text": [
            "(1120, 224, 224, 3) (1120, 2) (280, 224, 224, 3) (280, 2)\n"
          ]
        }
      ],
      "source": [
        "print(x_train.shape ,y_train.shape ,x_test.shape , y_test.shape  )"
      ]
    },
    {
      "cell_type": "markdown",
      "metadata": {
        "id": "vj_budWBf6jO"
      },
      "source": [
        "# **Models**"
      ]
    },
    {
      "cell_type": "code",
      "execution_count": null,
      "metadata": {
        "id": "n1Qp-5RU8PCM"
      },
      "outputs": [],
      "source": [
        "# Define model checkpoint for saving best model during training\n",
        "model_save = ModelCheckpoint(\"/content/drive/MyDrive/paper/K-fold code/ResNet50V2_kfold2.h5\" , save_best_only=True , verbose=2 , monitor=\"val_accuracy\" , mode=\"max\" )\n",
        ""
      ]
    },
    {
      "cell_type": "code",
      "execution_count": null,
      "metadata": {
        "colab": {
          "base_uri": "https://localhost:8080/"
        },
        "id": "4KvPa59o76Pn",
        "outputId": "a9180e4e-a524-4e67-9b9d-6fcf4d094ea2"
      },
      "outputs": [
        {
          "output_type": "stream",
          "name": "stdout",
          "text": [
            "Downloading data from https://storage.googleapis.com/tensorflow/keras-applications/resnet/resnet50v2_weights_tf_dim_ordering_tf_kernels_notop.h5\n",
            "94668760/94668760 [==============================] - 5s 0us/step\n"
          ]
        }
      ],
      "source": [
        "# Load pre-trained ResNet50V2 model\n",
        "base_model = ResNet50V2(weights=\"imagenet\", include_top=False , input_tensor=Input(shape=(224,224,3)))\n",
        "\n",
        "# Add custom layers on top of the pre-trained model\n",
        "x = base_model.output\n",
        "x = GlobalAveragePooling2D()(x)\n",
        "x = Flatten(name=\"flatting\")(x)\n",
        "x = Dense(128, activation='relu')(x)\n",
        "x= Dropout(0.3)(x)\n",
        "predictions = Dense(2, activation='softmax')(x)\n",
        "# this is the model we will train\n",
        "model = Model(inputs=base_model.input, outputs=predictions)"
      ]
    },
    {
      "cell_type": "markdown",
      "metadata": {
        "id": "LSAJgKMc4E07"
      },
      "source": [
        "# **preprocessing for fit model and fit**"
      ]
    },
    {
      "cell_type": "code",
      "execution_count": null,
      "metadata": {
        "id": "OoKte9OjgdD3"
      },
      "outputs": [],
      "source": [
        "csv_loger = CSVLogger(\"/content/drive/MyDrive/paper/K-fold code/ResNet50V2_kfold2.csv\" , append=True)"
      ]
    },
    {
      "cell_type": "code",
      "execution_count": null,
      "metadata": {
        "id": "Xpq8uY64hiR_"
      },
      "outputs": [],
      "source": [
        "# Define learning rate scheduler function\n",
        "def set_decay(epoch):\n",
        "  initAlpha =0.0008\n",
        "  factor = 0.9\n",
        "  dropEvery = 25\n",
        "  aplpha = initAlpha * (factor**np.floor((1+epoch) / dropEvery))\n",
        "  return float(aplpha)"
      ]
    },
    {
      "cell_type": "code",
      "execution_count": null,
      "metadata": {
        "id": "y3EMVGXXCvUx"
      },
      "outputs": [],
      "source": [
        "optim = keras.optimizers.Adam(learning_rate = 0.0008)\n",
        "model.compile(optim , loss=\"categorical_crossentropy\" , metrics=[\"accuracy\"])\n"
      ]
    },
    {
      "cell_type": "code",
      "execution_count": null,
      "metadata": {
        "id": "xe03JKPGe0ce"
      },
      "outputs": [],
      "source": [
        "batch_size = 8\n",
        "TrainStep = len(x_train) / batch_size\n",
        "ValStep = len(x_test) / batch_size"
      ]
    },
    {
      "cell_type": "code",
      "execution_count": null,
      "metadata": {
        "id": "yF8wYjCvuwJ-"
      },
      "outputs": [],
      "source": [
        "x_train=x_train/255.0\n",
        "x_test=x_test/255.0"
      ]
    },
    {
      "cell_type": "code",
      "execution_count": null,
      "metadata": {
        "id": "vMEbD6vPxedH"
      },
      "outputs": [],
      "source": [
        "# generating with functions\n",
        "datagen = ImageDataGenerator(width_shift_range=0.1, height_shift_range=0.1, horizontal_flip=True)\n",
        "train = datagen.flow(x_train, y_train, batch_size=8)"
      ]
    },
    {
      "cell_type": "code",
      "execution_count": null,
      "metadata": {
        "colab": {
          "base_uri": "https://localhost:8080/"
        },
        "id": "fIAbcxteIees",
        "outputId": "06d44344-9956-4457-8070-d1d1f0c9801b"
      },
      "outputs": [
        {
          "output_type": "stream",
          "name": "stdout",
          "text": [
            "Epoch 1/15\n",
            "140/140 [==============================] - ETA: 0s - loss: 0.3494 - accuracy: 0.8714\n",
            "Epoch 1: val_accuracy improved from -inf to 0.40357, saving model to /content/drive/MyDrive/paper/K-fold code/ResNet50V2_kfold2.h5\n",
            "140/140 [==============================] - 32s 179ms/step - loss: 0.3494 - accuracy: 0.8714 - val_loss: 1.9425 - val_accuracy: 0.4036 - lr: 8.0000e-04\n",
            "Epoch 2/15\n",
            "140/140 [==============================] - ETA: 0s - loss: 0.2110 - accuracy: 0.9214\n",
            "Epoch 2: val_accuracy improved from 0.40357 to 0.52857, saving model to /content/drive/MyDrive/paper/K-fold code/ResNet50V2_kfold2.h5\n",
            "140/140 [==============================] - 27s 195ms/step - loss: 0.2110 - accuracy: 0.9214 - val_loss: 17.0430 - val_accuracy: 0.5286 - lr: 8.0000e-04\n",
            "Epoch 3/15\n",
            "140/140 [==============================] - ETA: 0s - loss: 0.1628 - accuracy: 0.9554\n",
            "Epoch 3: val_accuracy improved from 0.52857 to 0.93214, saving model to /content/drive/MyDrive/paper/K-fold code/ResNet50V2_kfold2.h5\n",
            "140/140 [==============================] - 25s 181ms/step - loss: 0.1628 - accuracy: 0.9554 - val_loss: 0.2951 - val_accuracy: 0.9321 - lr: 8.0000e-04\n",
            "Epoch 4/15\n",
            "140/140 [==============================] - ETA: 0s - loss: 0.1955 - accuracy: 0.9384\n",
            "Epoch 4: val_accuracy did not improve from 0.93214\n",
            "140/140 [==============================] - 20s 142ms/step - loss: 0.1955 - accuracy: 0.9384 - val_loss: 0.7114 - val_accuracy: 0.6000 - lr: 8.0000e-04\n",
            "Epoch 5/15\n",
            "140/140 [==============================] - ETA: 0s - loss: 0.1495 - accuracy: 0.9536\n",
            "Epoch 5: val_accuracy did not improve from 0.93214\n",
            "140/140 [==============================] - 20s 140ms/step - loss: 0.1495 - accuracy: 0.9536 - val_loss: 4.3809 - val_accuracy: 0.5393 - lr: 8.0000e-04\n",
            "Epoch 6/15\n",
            "140/140 [==============================] - ETA: 0s - loss: 0.0763 - accuracy: 0.9786\n",
            "Epoch 6: val_accuracy improved from 0.93214 to 0.96429, saving model to /content/drive/MyDrive/paper/K-fold code/ResNet50V2_kfold2.h5\n",
            "140/140 [==============================] - 24s 172ms/step - loss: 0.0763 - accuracy: 0.9786 - val_loss: 0.0928 - val_accuracy: 0.9643 - lr: 8.0000e-04\n",
            "Epoch 7/15\n",
            "140/140 [==============================] - ETA: 0s - loss: 0.0407 - accuracy: 0.9911\n",
            "Epoch 7: val_accuracy improved from 0.96429 to 0.99286, saving model to /content/drive/MyDrive/paper/K-fold code/ResNet50V2_kfold2.h5\n",
            "140/140 [==============================] - 27s 190ms/step - loss: 0.0407 - accuracy: 0.9911 - val_loss: 0.0191 - val_accuracy: 0.9929 - lr: 8.0000e-04\n",
            "Epoch 8/15\n",
            "140/140 [==============================] - ETA: 0s - loss: 0.0355 - accuracy: 0.9920\n",
            "Epoch 8: val_accuracy did not improve from 0.99286\n",
            "140/140 [==============================] - 21s 149ms/step - loss: 0.0355 - accuracy: 0.9920 - val_loss: 9.0778 - val_accuracy: 0.6179 - lr: 8.0000e-04\n",
            "Epoch 9/15\n",
            "140/140 [==============================] - ETA: 0s - loss: 0.1784 - accuracy: 0.9625\n",
            "Epoch 9: val_accuracy did not improve from 0.99286\n",
            "140/140 [==============================] - 19s 139ms/step - loss: 0.1784 - accuracy: 0.9625 - val_loss: 0.9866 - val_accuracy: 0.7536 - lr: 8.0000e-04\n",
            "Epoch 10/15\n",
            "140/140 [==============================] - ETA: 0s - loss: 0.0857 - accuracy: 0.9732\n",
            "Epoch 10: val_accuracy did not improve from 0.99286\n",
            "140/140 [==============================] - 20s 140ms/step - loss: 0.0857 - accuracy: 0.9732 - val_loss: 0.0290 - val_accuracy: 0.9857 - lr: 8.0000e-04\n",
            "Epoch 11/15\n",
            "140/140 [==============================] - ETA: 0s - loss: 0.0927 - accuracy: 0.9795\n",
            "Epoch 11: val_accuracy did not improve from 0.99286\n",
            "140/140 [==============================] - 19s 138ms/step - loss: 0.0927 - accuracy: 0.9795 - val_loss: 0.1351 - val_accuracy: 0.9500 - lr: 8.0000e-04\n",
            "Epoch 12/15\n",
            "140/140 [==============================] - ETA: 0s - loss: 0.2271 - accuracy: 0.9366\n",
            "Epoch 12: val_accuracy did not improve from 0.99286\n",
            "140/140 [==============================] - 20s 139ms/step - loss: 0.2271 - accuracy: 0.9366 - val_loss: 4.9378 - val_accuracy: 0.5250 - lr: 8.0000e-04\n",
            "Epoch 13/15\n",
            "140/140 [==============================] - ETA: 0s - loss: 0.0686 - accuracy: 0.9830\n",
            "Epoch 13: val_accuracy did not improve from 0.99286\n",
            "140/140 [==============================] - 21s 146ms/step - loss: 0.0686 - accuracy: 0.9830 - val_loss: 1.9545 - val_accuracy: 0.4929 - lr: 8.0000e-04\n",
            "Epoch 14/15\n",
            "140/140 [==============================] - ETA: 0s - loss: 0.0949 - accuracy: 0.9759\n",
            "Epoch 14: val_accuracy did not improve from 0.99286\n",
            "140/140 [==============================] - 20s 139ms/step - loss: 0.0949 - accuracy: 0.9759 - val_loss: 0.0764 - val_accuracy: 0.9643 - lr: 8.0000e-04\n",
            "Epoch 15/15\n",
            "140/140 [==============================] - ETA: 0s - loss: 0.0763 - accuracy: 0.9821\n",
            "Epoch 15: val_accuracy did not improve from 0.99286\n",
            "140/140 [==============================] - 20s 142ms/step - loss: 0.0763 - accuracy: 0.9821 - val_loss: 0.2593 - val_accuracy: 0.9000 - lr: 8.0000e-04\n"
          ]
        }
      ],
      "source": [
        "H = model.fit(train , epochs=15, callbacks=[model_save, csv_loger, LearningRateScheduler(set_decay)]\n",
        "                        , validation_data = (x_test, y_test),shuffle=True )"
      ]
    },
    {
      "cell_type": "code",
      "execution_count": null,
      "metadata": {
        "colab": {
          "base_uri": "https://localhost:8080/",
          "height": 291
        },
        "id": "3tO1ERtKIeid",
        "outputId": "c559b844-7344-44e0-f504-adfe7956193d"
      },
      "outputs": [
        {
          "output_type": "display_data",
          "data": {
            "text/plain": [
              "<Figure size 3000x500 with 2 Axes>"
            ],
            "image/png": "[encoded data removed]"
          },
          "metadata": {}
        }
      ],
      "source": [
        "plt.figure(figsize=(30,5))\n",
        "plt.subplot(121)\n",
        "plt.plot(H.history['accuracy'])\n",
        "plt.plot(H.history['val_accuracy'])\n",
        "plt.title(\"Model accuracy\")\n",
        "plt.ylabel(\"accuracy\")\n",
        "plt.xlabel(\"Epoch\")\n",
        "plt.legend(['tarin', \"validation\"] , loc=\"upper left\")\n",
        "plt.subplot(122)\n",
        "plt.plot(H.history['loss'])\n",
        "plt.plot(H.history['val_loss'])\n",
        "plt.title(\"Model loss\")\n",
        "plt.ylabel(\"loss\")\n",
        "plt.xlabel(\"Epoch\")\n",
        "plt.legend(['tarin', \"validation\"] , loc=\"upper left\")\n",
        "plt.show()"
      ]
    },
    {
      "cell_type": "code",
      "execution_count": null,
      "metadata": {
        "id": "-Bg96OpIJZcp"
      },
      "outputs": [],
      "source": [
        "model = tf.keras.models.load_model(\"/content/drive/MyDrive/paper/K-fold code/ResNet50V2_kfold2.h5\")"
      ]
    },
    {
      "cell_type": "code",
      "execution_count": null,
      "metadata": {
        "colab": {
          "base_uri": "https://localhost:8080/"
        },
        "id": "-VnhkQP0Iemd",
        "outputId": "b83994a6-92ee-4604-e036-df0ec6fa9668"
      },
      "outputs": [
        {
          "output_type": "stream",
          "name": "stdout",
          "text": [
            "35/35 [==============================] - 4s 89ms/step - loss: 0.0289 - accuracy: 0.9911\n"
          ]
        },
        {
          "output_type": "execute_result",
          "data": {
            "text/plain": [
              "[0.02886974811553955, 0.9910714030265808]"
            ]
          },
          "metadata": {},
          "execution_count": 134
        }
      ],
      "source": [
        "#train\n",
        "model.evaluate(x_train,y_train)"
      ]
    },
    {
      "cell_type": "code",
      "execution_count": null,
      "metadata": {
        "id": "nOOYbNGJIepx",
        "colab": {
          "base_uri": "https://localhost:8080/"
        },
        "outputId": "991745f3-38c5-45d0-9296-d4cbd6dddea6"
      },
      "outputs": [
        {
          "output_type": "stream",
          "name": "stdout",
          "text": [
            "9/9 [==============================] - 2s 88ms/step - loss: 0.0191 - accuracy: 0.9929\n"
          ]
        },
        {
          "output_type": "execute_result",
          "data": {
            "text/plain": [
              "[0.01905122585594654, 0.9928571581840515]"
            ]
          },
          "metadata": {},
          "execution_count": 135
        }
      ],
      "source": [
        "#test\n",
        "model.evaluate(x_test, y_test)"
      ]
    },
    {
      "cell_type": "code",
      "execution_count": null,
      "metadata": {
        "id": "wZ9r-C8nJ004",
        "colab": {
          "base_uri": "https://localhost:8080/"
        },
        "outputId": "532cdf95-d7e5-4c16-9791-602f706f6f01"
      },
      "outputs": [
        {
          "output_type": "stream",
          "name": "stdout",
          "text": [
            "9/9 [==============================] - 2s 84ms/step\n"
          ]
        }
      ],
      "source": [
        "prediction=model.predict(x_test)"
      ]
    },
    {
      "cell_type": "code",
      "execution_count": null,
      "metadata": {
        "id": "QwNgKI9AK2CL"
      },
      "outputs": [],
      "source": [
        "prediction=np.argmax(prediction,-1)\n",
        "y_test=np.argmax(y_test,-1)"
      ]
    },
    {
      "cell_type": "code",
      "execution_count": null,
      "metadata": {
        "id": "5S48jvnyK7pL",
        "colab": {
          "base_uri": "https://localhost:8080/"
        },
        "outputId": "9166de57-7fbe-4e5a-9d8d-0bf8f45e7356"
      },
      "outputs": [
        {
          "output_type": "stream",
          "name": "stdout",
          "text": [
            "99.2953667953668\n"
          ]
        }
      ],
      "source": [
        "# Calculate precision, recall, and F1-score\n",
        "precision = precision_score(y_test , prediction ,  average=\"weighted\")\n",
        "print(precision*100)"
      ]
    },
    {
      "cell_type": "code",
      "execution_count": null,
      "metadata": {
        "id": "VyaK2iMcK9F4",
        "colab": {
          "base_uri": "https://localhost:8080/"
        },
        "outputId": "8b6a294a-95c5-419b-e1b3-e11f02df575f"
      },
      "outputs": [
        {
          "output_type": "stream",
          "name": "stdout",
          "text": [
            "99.28571428571429\n"
          ]
        }
      ],
      "source": [
        "recal = recall_score(y_test , prediction ,  average=\"weighted\")\n",
        "print(recal*100)"
      ]
    },
    {
      "cell_type": "code",
      "execution_count": null,
      "metadata": {
        "id": "79DA0tWeK_aB",
        "colab": {
          "base_uri": "https://localhost:8080/"
        },
        "outputId": "377a5929-7516-4eed-e982-1eec0ba357cb"
      },
      "outputs": [
        {
          "output_type": "stream",
          "name": "stdout",
          "text": [
            "99.28545854431998\n"
          ]
        }
      ],
      "source": [
        "f1 = f1_score(y_test , prediction ,  average=\"weighted\")\n",
        "print(f1*100)"
      ]
    },
    {
      "cell_type": "code",
      "execution_count": null,
      "metadata": {
        "id": "_DeTjEp5LBju",
        "colab": {
          "base_uri": "https://localhost:8080/"
        },
        "outputId": "14cd6190-7993-4722-c50b-a2b760da17fb"
      },
      "outputs": [
        {
          "output_type": "stream",
          "name": "stdout",
          "text": [
            "              precision    recall  f1-score   support\n",
            "\n",
            "           0       0.99      1.00      0.99       146\n",
            "           1       1.00      0.99      0.99       134\n",
            "\n",
            "    accuracy                           0.99       280\n",
            "   macro avg       0.99      0.99      0.99       280\n",
            "weighted avg       0.99      0.99      0.99       280\n",
            "\n"
          ]
        }
      ],
      "source": [
        "print(classification_report(y_test , prediction))"
      ]
    },
    {
      "cell_type": "code",
      "execution_count": null,
      "metadata": {
        "id": "33RGmDHRLD_0",
        "colab": {
          "base_uri": "https://localhost:8080/"
        },
        "outputId": "9732bb9f-8c06-402c-af72-e82c4ce42188"
      },
      "outputs": [
        {
          "output_type": "execute_result",
          "data": {
            "text/plain": [
              "array([[146,   0],\n",
              "       [  2, 132]])"
            ]
          },
          "metadata": {},
          "execution_count": 142
        }
      ],
      "source": [
        "# Generate confusion matrix\n",
        "confusion_matrix(y_test , prediction)"
      ]
    },
    {
      "cell_type": "code",
      "execution_count": null,
      "metadata": {
        "id": "ZSceLgp9LzNi",
        "colab": {
          "base_uri": "https://localhost:8080/",
          "height": 472
        },
        "outputId": "fe14b439-500b-447c-d816-1897df9438b6"
      },
      "outputs": [
        {
          "output_type": "display_data",
          "data": {
            "text/plain": [
              "<Figure size 640x480 with 2 Axes>"
            ],
            "image/png": "[encoded data removed]"
          },
          "metadata": {}
        }
      ],
      "source": [
        "cm=confusion_matrix(y_test , prediction)\n",
        "target_names = [\"normal\" , \"pation\"]\n",
        "disp = ConfusionMatrixDisplay(confusion_matrix=cm,  display_labels=target_names)\n",
        "disp.plot(cmap=plt.cm.Blues)\n",
        "plt.xlabel(\"Predicted labels\")\n",
        "plt.title('Confusion matrix ')\n",
        "plt.ylabel(\"True labels\")\n",
        "plt.show()"
      ]
    }
  ],
  "metadata": {
    "colab": {
      "provenance": [],
      "mount_file_id": "1CBtLTWVLkVkWHQB-uFOySHPfY6lItpGS",
      "authorship_tag": "ABX9TyMJHyR9m6zs9nHKCLtWME9f",
      "include_colab_link": true
    },
    "gpuClass": "standard",
    "kernelspec": {
      "display_name": "Python 3",
      "name": "python3"
    },
    "language_info": {
      "name": "python"
    },
    "accelerator": "GPU"
  },
  "nbformat": 4,
  "nbformat_minor": 0
}