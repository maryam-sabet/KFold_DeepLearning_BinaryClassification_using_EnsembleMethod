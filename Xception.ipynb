{
  "nbformat": 4,
  "nbformat_minor": 0,
  "metadata": {
    "colab": {
      "provenance": [],
      "mount_file_id": "15EAd9T2sh4btx1fg0_JorZfLfynlIZWc",
      "authorship_tag": "ABX9TyNKRUi9fElGgLM/+K3Nm6XH",
      "include_colab_link": true
    },
    "kernelspec": {
      "name": "python3",
      "display_name": "Python 3"
    },
    "language_info": {
      "name": "python"
    },
    "gpuClass": "standard",
    "accelerator": "GPU"
  },
  "cells": [
    {
      "cell_type": "markdown",
      "metadata": {
        "id": "view-in-github",
        "colab_type": "text"
      },
      "source": [
        "<a href=\"https://colab.research.google.com/github/maryam-sabet/KFold_DeepLearning_BinaryClassification_using_EnsembleMethod/blob/main/Xception.ipynb\" target=\"_parent\"><img src=\"https://colab.research.google.com/assets/colab-badge.svg\" alt=\"Open In Colab\"/></a>"
      ]
    },
    {
      "cell_type": "markdown",
      "source": [
        "# **Change tensorflow version**"
      ],
      "metadata": {
        "id": "Ksiytk9lpNlA"
      }
    },
    {
      "cell_type": "code",
      "source": [
        "!pip install tensorflow==2.9.1"
      ],
      "metadata": {
        "id": "FXU5SP3ApQKW"
      },
      "execution_count": null,
      "outputs": []
    },
    {
      "cell_type": "markdown",
      "source": [
        "# **Libraries**"
      ],
      "metadata": {
        "id": "hZtaL0SxpZfv"
      }
    },
    {
      "cell_type": "code",
      "source": [
        "import glob\n",
        "import cv2\n",
        "from google.colab.patches import cv2_imshow\n",
        "import matplotlib.pyplot as plt\n",
        "import random\n",
        "import numpy as np\n",
        "import keras\n",
        "import tensorflow as tf\n",
        "from sklearn.model_selection import train_test_split\n",
        "from sklearn import preprocessing\n",
        "from keras.utils import to_categorical\n",
        "from tensorflow import keras\n",
        "from tensorflow.keras.utils import plot_model\n",
        "from tensorflow.keras.preprocessing.image import ImageDataGenerator\n",
        "from tensorflow.keras.applications import VGG16,DenseNet169,Xception,MobileNet,MobileNetV2,NASNetMobile,EfficientNetB0,DenseNet121,EfficientNetV2B0,ResNet50V2\n",
        "from tensorflow.keras.models import Model\n",
        "from sklearn.model_selection import KFold\n",
        "from tensorflow.keras import layers\n",
        "from tensorflow.keras.layers import Dense, GlobalAveragePooling2D, Input,Flatten,Dropout\n",
        "from tensorflow.keras.callbacks import ModelCheckpoint , CSVLogger , LearningRateScheduler\n",
        "from sklearn.metrics import precision_score , recall_score , f1_score , confusion_matrix , ConfusionMatrixDisplay ,classification_report\n"
      ],
      "metadata": {
        "id": "sy-pwaD4pdjv"
      },
      "execution_count": null,
      "outputs": []
    },
    {
      "cell_type": "code",
      "source": [
        "tf.__version__"
      ],
      "metadata": {
        "id": "LGyGgja4-flU",
        "colab": {
          "base_uri": "https://localhost:8080/",
          "height": 35
        },
        "outputId": "ff4ab3f5-1d30-4527-e5d8-404f8f740046"
      },
      "execution_count": null,
      "outputs": [
        {
          "output_type": "execute_result",
          "data": {
            "text/plain": [
              "'2.9.1'"
            ],
            "application/vnd.google.colaboratory.intrinsic+json": {
              "type": "string"
            }
          },
          "metadata": {},
          "execution_count": 3
        }
      ]
    },
    {
      "cell_type": "markdown",
      "source": [
        "# **Loading data**"
      ],
      "metadata": {
        "id": "IZqVwUgYeaH3"
      }
    },
    {
      "cell_type": "code",
      "source": [
        "data = np.load(\"/content/drive/MyDrive/paper/data.npy\",allow_pickle=True)\n",
        "label = np.load(\"/content/drive/MyDrive/paper/label.npy\",allow_pickle=True)\n"
      ],
      "metadata": {
        "id": "Vm_yfSSGuTZe"
      },
      "execution_count": null,
      "outputs": []
    },
    {
      "cell_type": "code",
      "source": [
        "random.seed(1254)\n",
        "combined = list(zip(data, label))\n",
        "random.shuffle(combined)\n",
        "\n",
        "\n",
        "data, label = zip(*combined)\n",
        "label = np.array(label)\n",
        "data = np.array(data)"
      ],
      "metadata": {
        "id": "1KU-wBzJvP06"
      },
      "execution_count": null,
      "outputs": []
    },
    {
      "cell_type": "code",
      "source": [
        "# Label binarizing\n",
        "lb = preprocessing.LabelBinarizer()\n",
        "\n",
        "labels = lb.fit_transform(label)\n",
        "label_category = to_categorical(labels , num_classes=2)"
      ],
      "metadata": {
        "id": "tnZsI662vSwl"
      },
      "execution_count": null,
      "outputs": []
    },
    {
      "cell_type": "code",
      "source": [
        "#resize input images\n",
        "Data =list()\n",
        "for item in data:\n",
        "  img = cv2.resize(item , (224,224) , cv2.INTER_NEAREST )\n",
        "  Data.append(img)\n",
        "\n",
        "Data = np.array(Data)"
      ],
      "metadata": {
        "id": "PEQhyrf3vYQu"
      },
      "execution_count": null,
      "outputs": []
    },
    {
      "cell_type": "code",
      "source": [
        "X_train, X_test, y_train, y_test = train_test_split(Data, label_category, test_size=0.20, random_state=42)"
      ],
      "metadata": {
        "id": "RJ65cqDUvb7n"
      },
      "execution_count": null,
      "outputs": []
    },
    {
      "cell_type": "code",
      "source": [
        "print(X_train.shape ,y_train.shape ,X_test.shape , y_test.shape  )"
      ],
      "metadata": {
        "colab": {
          "base_uri": "https://localhost:8080/"
        },
        "id": "g9cIHfSDFdUb",
        "outputId": "9b92a4c4-4472-4a3b-987e-2a8fbb6820b9"
      },
      "execution_count": null,
      "outputs": [
        {
          "output_type": "stream",
          "name": "stdout",
          "text": [
            "(1120, 224, 224, 3) (1120, 2) (280, 224, 224, 3) (280, 2)\n"
          ]
        }
      ]
    },
    {
      "cell_type": "markdown",
      "source": [
        "# **Models**"
      ],
      "metadata": {
        "id": "vj_budWBf6jO"
      }
    },
    {
      "cell_type": "code",
      "source": [
        "model_save = ModelCheckpoint(\"/content/drive/MyDrive/paper/ensemble-learning/Xception.h5\" , save_best_only=True , verbose=2 , monitor=\"val_accuracy\" , mode=\"max\" )"
      ],
      "metadata": {
        "id": "n1Qp-5RU8PCM"
      },
      "execution_count": null,
      "outputs": []
    },
    {
      "cell_type": "code",
      "source": [
        "base_model = Xception(weights=\"imagenet\", include_top=False , input_tensor=Input(shape=(224,224,3)))\n",
        "x = base_model.output\n",
        "x = GlobalAveragePooling2D()(x)\n",
        "x = Flatten(name=\"flatting\")(x)\n",
        "x = Dense(128, activation='relu')(x)\n",
        "x= Dropout(0.3)(x)\n",
        "predictions = Dense(2, activation='softmax')(x)\n",
        "# this is the model we will train\n",
        "model = Model(inputs=base_model.input, outputs=predictions)"
      ],
      "metadata": {
        "id": "4KvPa59o76Pn",
        "colab": {
          "base_uri": "https://localhost:8080/"
        },
        "outputId": "1bff5d0d-4aa6-48de-cfc2-8d6fd656a492"
      },
      "execution_count": null,
      "outputs": [
        {
          "output_type": "stream",
          "name": "stdout",
          "text": [
            "Downloading data from https://storage.googleapis.com/tensorflow/keras-applications/xception/xception_weights_tf_dim_ordering_tf_kernels_notop.h5\n",
            "83683744/83683744 [==============================] - 5s 0us/step\n"
          ]
        }
      ]
    },
    {
      "cell_type": "markdown",
      "source": [
        "# **preprocessing for fit model and fit**"
      ],
      "metadata": {
        "id": "LSAJgKMc4E07"
      }
    },
    {
      "cell_type": "code",
      "source": [
        "csv_loger = CSVLogger(\"/content/drive/MyDrive/paper/ensemble-learning/Xception.csv\" , append=True)"
      ],
      "metadata": {
        "id": "OoKte9OjgdD3"
      },
      "execution_count": null,
      "outputs": []
    },
    {
      "cell_type": "code",
      "source": [
        "def set_decay(epoch):\n",
        "  initAlpha =0.0008\n",
        "  factor = 0.9\n",
        "  dropEvery = 25\n",
        "  aplpha = initAlpha * (factor**np.floor((1+epoch) / dropEvery))\n",
        "  return float(aplpha)"
      ],
      "metadata": {
        "id": "Xpq8uY64hiR_"
      },
      "execution_count": null,
      "outputs": []
    },
    {
      "cell_type": "code",
      "source": [
        "optim = keras.optimizers.Adam(learning_rate = 0.0008)\n",
        "model.compile(optim , loss=\"categorical_crossentropy\" , metrics=[\"accuracy\"])\n"
      ],
      "metadata": {
        "id": "y3EMVGXXCvUx"
      },
      "execution_count": null,
      "outputs": []
    },
    {
      "cell_type": "code",
      "source": [
        "batch_size = 8\n",
        "TrainStep = len(X_train) / batch_size\n",
        "ValStep = len(X_test) / batch_size"
      ],
      "metadata": {
        "id": "xe03JKPGe0ce"
      },
      "execution_count": null,
      "outputs": []
    },
    {
      "cell_type": "code",
      "source": [
        "x_train=X_train/255.0\n",
        "x_test=X_test/255.0"
      ],
      "metadata": {
        "id": "yF8wYjCvuwJ-"
      },
      "execution_count": null,
      "outputs": []
    },
    {
      "cell_type": "code",
      "source": [
        "# generating with functions\n",
        "datagen = ImageDataGenerator(width_shift_range=0.1, height_shift_range=0.1, horizontal_flip=True)\n",
        "train = datagen.flow(x_train, y_train, batch_size=8)"
      ],
      "metadata": {
        "id": "vMEbD6vPxedH"
      },
      "execution_count": null,
      "outputs": []
    },
    {
      "cell_type": "code",
      "source": [
        "H = model.fit(train , epochs=15, callbacks=[model_save, csv_loger, LearningRateScheduler(set_decay)]\n",
        "                        , validation_data = (x_test, y_test),shuffle=True )"
      ],
      "metadata": {
        "id": "fIAbcxteIees",
        "colab": {
          "base_uri": "https://localhost:8080/"
        },
        "outputId": "76cab7cb-fa5c-4bf3-85d6-d8ca1f157a75"
      },
      "execution_count": null,
      "outputs": [
        {
          "output_type": "stream",
          "name": "stdout",
          "text": [
            "Epoch 1/15\n",
            "140/140 [==============================] - ETA: 0s - loss: 0.2357 - accuracy: 0.9196\n",
            "Epoch 1: val_accuracy improved from -inf to 0.89643, saving model to /content/drive/MyDrive/Xception.h5\n",
            "140/140 [==============================] - 46s 222ms/step - loss: 0.2357 - accuracy: 0.9196 - val_loss: 0.4454 - val_accuracy: 0.8964 - lr: 8.0000e-04\n",
            "Epoch 2/15\n",
            "140/140 [==============================] - ETA: 0s - loss: 0.1869 - accuracy: 0.9366\n",
            "Epoch 2: val_accuracy improved from 0.89643 to 1.00000, saving model to /content/drive/MyDrive/Xception.h5\n",
            "140/140 [==============================] - 30s 215ms/step - loss: 0.1869 - accuracy: 0.9366 - val_loss: 0.0016 - val_accuracy: 1.0000 - lr: 8.0000e-04\n",
            "Epoch 3/15\n",
            "140/140 [==============================] - ETA: 0s - loss: 0.1179 - accuracy: 0.9759\n",
            "Epoch 3: val_accuracy did not improve from 1.00000\n",
            "140/140 [==============================] - 28s 195ms/step - loss: 0.1179 - accuracy: 0.9759 - val_loss: 0.0593 - val_accuracy: 0.9857 - lr: 8.0000e-04\n",
            "Epoch 4/15\n",
            "140/140 [==============================] - ETA: 0s - loss: 0.0798 - accuracy: 0.9768\n",
            "Epoch 4: val_accuracy did not improve from 1.00000\n",
            "140/140 [==============================] - 26s 189ms/step - loss: 0.0798 - accuracy: 0.9768 - val_loss: 0.0024 - val_accuracy: 1.0000 - lr: 8.0000e-04\n",
            "Epoch 5/15\n",
            "140/140 [==============================] - ETA: 0s - loss: 0.0311 - accuracy: 0.9929\n",
            "Epoch 5: val_accuracy did not improve from 1.00000\n",
            "140/140 [==============================] - 26s 187ms/step - loss: 0.0311 - accuracy: 0.9929 - val_loss: 0.0029 - val_accuracy: 1.0000 - lr: 8.0000e-04\n",
            "Epoch 6/15\n",
            "140/140 [==============================] - ETA: 0s - loss: 0.1091 - accuracy: 0.9848\n",
            "Epoch 6: val_accuracy did not improve from 1.00000\n",
            "140/140 [==============================] - 28s 200ms/step - loss: 0.1091 - accuracy: 0.9848 - val_loss: 4.1861e-04 - val_accuracy: 1.0000 - lr: 8.0000e-04\n",
            "Epoch 7/15\n",
            "140/140 [==============================] - ETA: 0s - loss: 0.0142 - accuracy: 0.9964\n",
            "Epoch 7: val_accuracy did not improve from 1.00000\n",
            "140/140 [==============================] - 27s 192ms/step - loss: 0.0142 - accuracy: 0.9964 - val_loss: 0.0011 - val_accuracy: 1.0000 - lr: 8.0000e-04\n",
            "Epoch 8/15\n",
            "140/140 [==============================] - ETA: 0s - loss: 0.0821 - accuracy: 0.9857\n",
            "Epoch 8: val_accuracy did not improve from 1.00000\n",
            "140/140 [==============================] - 27s 193ms/step - loss: 0.0821 - accuracy: 0.9857 - val_loss: 0.0031 - val_accuracy: 1.0000 - lr: 8.0000e-04\n",
            "Epoch 9/15\n",
            "140/140 [==============================] - ETA: 0s - loss: 0.1345 - accuracy: 0.9679\n",
            "Epoch 9: val_accuracy did not improve from 1.00000\n",
            "140/140 [==============================] - 27s 189ms/step - loss: 0.1345 - accuracy: 0.9679 - val_loss: 0.0030 - val_accuracy: 1.0000 - lr: 8.0000e-04\n",
            "Epoch 10/15\n",
            "140/140 [==============================] - ETA: 0s - loss: 0.0434 - accuracy: 0.9929\n",
            "Epoch 10: val_accuracy did not improve from 1.00000\n",
            "140/140 [==============================] - 26s 188ms/step - loss: 0.0434 - accuracy: 0.9929 - val_loss: 0.0050 - val_accuracy: 0.9964 - lr: 8.0000e-04\n",
            "Epoch 11/15\n",
            "140/140 [==============================] - ETA: 0s - loss: 0.0129 - accuracy: 0.9964\n",
            "Epoch 11: val_accuracy did not improve from 1.00000\n",
            "140/140 [==============================] - 28s 200ms/step - loss: 0.0129 - accuracy: 0.9964 - val_loss: 0.0014 - val_accuracy: 1.0000 - lr: 8.0000e-04\n",
            "Epoch 12/15\n",
            "140/140 [==============================] - ETA: 0s - loss: 0.0442 - accuracy: 0.9946\n",
            "Epoch 12: val_accuracy did not improve from 1.00000\n",
            "140/140 [==============================] - 26s 184ms/step - loss: 0.0442 - accuracy: 0.9946 - val_loss: 0.0676 - val_accuracy: 0.9750 - lr: 8.0000e-04\n",
            "Epoch 13/15\n",
            "140/140 [==============================] - ETA: 0s - loss: 0.0901 - accuracy: 0.9830\n",
            "Epoch 13: val_accuracy did not improve from 1.00000\n",
            "140/140 [==============================] - 27s 196ms/step - loss: 0.0901 - accuracy: 0.9830 - val_loss: 0.0019 - val_accuracy: 1.0000 - lr: 8.0000e-04\n",
            "Epoch 14/15\n",
            "140/140 [==============================] - ETA: 0s - loss: 0.0428 - accuracy: 0.9893\n",
            "Epoch 14: val_accuracy did not improve from 1.00000\n",
            "140/140 [==============================] - 26s 185ms/step - loss: 0.0428 - accuracy: 0.9893 - val_loss: 0.0020 - val_accuracy: 1.0000 - lr: 8.0000e-04\n",
            "Epoch 15/15\n",
            "140/140 [==============================] - ETA: 0s - loss: 0.0382 - accuracy: 0.9902\n",
            "Epoch 15: val_accuracy did not improve from 1.00000\n",
            "140/140 [==============================] - 27s 191ms/step - loss: 0.0382 - accuracy: 0.9902 - val_loss: 0.0016 - val_accuracy: 1.0000 - lr: 8.0000e-04\n"
          ]
        }
      ]
    },
    {
      "cell_type": "code",
      "source": [
        "plt.figure(figsize=(30,5))\n",
        "plt.subplot(121)\n",
        "plt.plot(H.history['accuracy'])\n",
        "plt.plot(H.history['val_accuracy'])\n",
        "plt.title(\"Model accuracy\")\n",
        "plt.ylabel(\"accuracy\")\n",
        "plt.xlabel(\"Epoch\")\n",
        "plt.legend(['tarin', \"validation\"] , loc=\"upper left\")\n",
        "plt.subplot(122)\n",
        "plt.plot(H.history['loss'])\n",
        "plt.plot(H.history['val_loss'])\n",
        "plt.title(\"Model loss\")\n",
        "plt.ylabel(\"loss\")\n",
        "plt.xlabel(\"Epoch\")\n",
        "plt.legend(['tarin', \"validation\"] , loc=\"upper left\")\n",
        "plt.show()"
      ],
      "metadata": {
        "id": "3tO1ERtKIeid",
        "colab": {
          "base_uri": "https://localhost:8080/",
          "height": 266
        },
        "outputId": "54efe99e-403b-4bcb-c647-968f782eb29c"
      },
      "execution_count": null,
      "outputs": [
        {
          "output_type": "display_data",
          "data": {
            "text/plain": [
              "<Figure size 3000x500 with 2 Axes>"
            ],
            "image/png": "[encoded data removed]"
          },
          "metadata": {}
        }
      ]
    },
    {
      "cell_type": "code",
      "source": [
        "model = tf.keras.models.load_model(\"/content/drive/MyDrive/paper/ensemble-learning/Xception.h5\")"
      ],
      "metadata": {
        "id": "-Bg96OpIJZcp"
      },
      "execution_count": null,
      "outputs": []
    },
    {
      "cell_type": "code",
      "source": [
        "#train\n",
        "model.evaluate(x_train,y_train)"
      ],
      "metadata": {
        "id": "-VnhkQP0Iemd",
        "colab": {
          "base_uri": "https://localhost:8080/"
        },
        "outputId": "c53c18f1-6284-4f16-e3c9-0e2a8eff52f1"
      },
      "execution_count": null,
      "outputs": [
        {
          "output_type": "stream",
          "name": "stdout",
          "text": [
            "35/35 [==============================] - 6s 136ms/step - loss: 0.0151 - accuracy: 0.9955\n"
          ]
        },
        {
          "output_type": "execute_result",
          "data": {
            "text/plain": [
              "[0.015078937634825706, 0.9955357313156128]"
            ]
          },
          "metadata": {},
          "execution_count": 24
        }
      ]
    },
    {
      "cell_type": "code",
      "source": [
        "#test\n",
        "model.evaluate(x_test, y_test)"
      ],
      "metadata": {
        "id": "nOOYbNGJIepx",
        "colab": {
          "base_uri": "https://localhost:8080/"
        },
        "outputId": "1faf17bc-3a76-40da-b250-660533ab2ed7"
      },
      "execution_count": null,
      "outputs": [
        {
          "output_type": "stream",
          "name": "stdout",
          "text": [
            "9/9 [==============================] - 3s 133ms/step - loss: 0.0016 - accuracy: 1.0000\n"
          ]
        },
        {
          "output_type": "execute_result",
          "data": {
            "text/plain": [
              "[0.0015527993673458695, 1.0]"
            ]
          },
          "metadata": {},
          "execution_count": 25
        }
      ]
    },
    {
      "cell_type": "code",
      "source": [
        "prediction=model.predict(x_test)"
      ],
      "metadata": {
        "id": "wZ9r-C8nJ004",
        "colab": {
          "base_uri": "https://localhost:8080/"
        },
        "outputId": "5a4b1e86-7c9a-495a-b5c0-3a0acdec2175"
      },
      "execution_count": null,
      "outputs": [
        {
          "output_type": "stream",
          "name": "stdout",
          "text": [
            "9/9 [==============================] - 2s 140ms/step\n"
          ]
        }
      ]
    },
    {
      "cell_type": "code",
      "source": [
        "prediction=np.argmax(prediction,-1)\n",
        "y_test=np.argmax(y_test,-1)"
      ],
      "metadata": {
        "id": "QwNgKI9AK2CL"
      },
      "execution_count": null,
      "outputs": []
    },
    {
      "cell_type": "code",
      "source": [
        "precision = precision_score(y_test , prediction ,  average=\"weighted\")\n",
        "print(precision*100)"
      ],
      "metadata": {
        "id": "5S48jvnyK7pL",
        "colab": {
          "base_uri": "https://localhost:8080/"
        },
        "outputId": "27844e9d-4391-45ca-f035-36194042f86d"
      },
      "execution_count": null,
      "outputs": [
        {
          "output_type": "stream",
          "name": "stdout",
          "text": [
            "100.0\n"
          ]
        }
      ]
    },
    {
      "cell_type": "code",
      "source": [
        "recal = recall_score(y_test , prediction ,  average=\"weighted\")\n",
        "print(recal*100)"
      ],
      "metadata": {
        "id": "VyaK2iMcK9F4",
        "colab": {
          "base_uri": "https://localhost:8080/"
        },
        "outputId": "bfee07ab-5b0b-43ca-dfa7-851e83d80b05"
      },
      "execution_count": null,
      "outputs": [
        {
          "output_type": "stream",
          "name": "stdout",
          "text": [
            "100.0\n"
          ]
        }
      ]
    },
    {
      "cell_type": "code",
      "source": [
        "f1 = f1_score(y_test , prediction ,  average=\"weighted\")\n",
        "print(f1*100)"
      ],
      "metadata": {
        "id": "79DA0tWeK_aB",
        "colab": {
          "base_uri": "https://localhost:8080/"
        },
        "outputId": "c4aca559-aff9-4a46-ddd8-f8b60f880a45"
      },
      "execution_count": null,
      "outputs": [
        {
          "output_type": "stream",
          "name": "stdout",
          "text": [
            "100.0\n"
          ]
        }
      ]
    },
    {
      "cell_type": "code",
      "source": [
        "print(classification_report(y_test , prediction))"
      ],
      "metadata": {
        "id": "_DeTjEp5LBju",
        "colab": {
          "base_uri": "https://localhost:8080/"
        },
        "outputId": "bce344d3-964e-486b-8d8f-6fe6cd15d9ce"
      },
      "execution_count": null,
      "outputs": [
        {
          "output_type": "stream",
          "name": "stdout",
          "text": [
            "              precision    recall  f1-score   support\n",
            "\n",
            "           0       1.00      1.00      1.00       137\n",
            "           1       1.00      1.00      1.00       143\n",
            "\n",
            "    accuracy                           1.00       280\n",
            "   macro avg       1.00      1.00      1.00       280\n",
            "weighted avg       1.00      1.00      1.00       280\n",
            "\n"
          ]
        }
      ]
    },
    {
      "cell_type": "code",
      "source": [
        "confusion_matrix(y_test , prediction)"
      ],
      "metadata": {
        "id": "33RGmDHRLD_0",
        "colab": {
          "base_uri": "https://localhost:8080/"
        },
        "outputId": "6cca32f6-a83f-4ea7-e56b-298757b1ebaf"
      },
      "execution_count": null,
      "outputs": [
        {
          "output_type": "execute_result",
          "data": {
            "text/plain": [
              "array([[137,   0],\n",
              "       [  0, 143]])"
            ]
          },
          "metadata": {},
          "execution_count": 33
        }
      ]
    },
    {
      "cell_type": "code",
      "source": [
        "cm=confusion_matrix(y_test , prediction)\n",
        "target_names = [\"normal\" , \"pation\"]\n",
        "disp = ConfusionMatrixDisplay(confusion_matrix=cm,  display_labels=target_names)\n",
        "disp.plot(cmap=plt.cm.Blues)\n",
        "plt.xlabel(\"Predicted labels\")\n",
        "plt.title('Confusion matrix ')\n",
        "plt.ylabel(\"True labels\")\n",
        "plt.show()"
      ],
      "metadata": {
        "id": "ZSceLgp9LzNi",
        "colab": {
          "base_uri": "https://localhost:8080/",
          "height": 472
        },
        "outputId": "3fd62d4e-d259-45bf-8891-0e70ca760561"
      },
      "execution_count": null,
      "outputs": [
        {
          "output_type": "display_data",
          "data": {
            "text/plain": [
              "<Figure size 640x480 with 2 Axes>"
            ],
            "image/png": "[encoded data removed]"
          },
          "metadata": {}
        }
      ]
    },
    {
      "cell_type": "code",
      "source": [],
      "metadata": {
        "id": "tJem3GVq-GhE"
      },
      "execution_count": null,
      "outputs": []
    }
  ]
}